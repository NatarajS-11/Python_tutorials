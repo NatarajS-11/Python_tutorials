{
 "cells": [
  {
   "cell_type": "code",
   "execution_count": 1,
   "id": "6352ff92",
   "metadata": {},
   "outputs": [
    {
     "name": "stdout",
     "output_type": "stream",
     "text": [
      "hello data science\n"
     ]
    }
   ],
   "source": [
    "print(\"hello data science\")"
   ]
  },
  {
   "cell_type": "code",
   "execution_count": 2,
   "id": "c28bfe41",
   "metadata": {},
   "outputs": [],
   "source": [
    "student = \"Nataraj\""
   ]
  },
  {
   "cell_type": "code",
   "execution_count": 3,
   "id": "6420b711",
   "metadata": {},
   "outputs": [
    {
     "name": "stdout",
     "output_type": "stream",
     "text": [
      "student name is Nataraj\n"
     ]
    }
   ],
   "source": [
    "student\n",
    "print(\"student name is \" + student)"
   ]
  },
  {
   "cell_type": "code",
   "execution_count": 4,
   "id": "f61e9c6e",
   "metadata": {},
   "outputs": [
    {
     "name": "stdout",
     "output_type": "stream",
     "text": [
      "20\n"
     ]
    }
   ],
   "source": [
    "a1 =20\n",
    "print(a1)"
   ]
  },
  {
   "cell_type": "code",
   "execution_count": 5,
   "id": "558ad27e",
   "metadata": {},
   "outputs": [
    {
     "data": {
      "text/plain": [
       "int"
      ]
     },
     "execution_count": 5,
     "metadata": {},
     "output_type": "execute_result"
    }
   ],
   "source": [
    "type(a1)"
   ]
  },
  {
   "cell_type": "code",
   "execution_count": 6,
   "id": "8684fd32",
   "metadata": {},
   "outputs": [
    {
     "name": "stdout",
     "output_type": "stream",
     "text": [
      "3.41\n"
     ]
    }
   ],
   "source": [
    "a1= 3.41\n",
    "print(a1)\n"
   ]
  },
  {
   "cell_type": "code",
   "execution_count": 7,
   "id": "8f1f2915",
   "metadata": {},
   "outputs": [
    {
     "data": {
      "text/plain": [
       "float"
      ]
     },
     "execution_count": 7,
     "metadata": {},
     "output_type": "execute_result"
    }
   ],
   "source": [
    "type(a1)"
   ]
  },
  {
   "cell_type": "code",
   "execution_count": 8,
   "id": "66e261dd",
   "metadata": {},
   "outputs": [
    {
     "name": "stdout",
     "output_type": "stream",
     "text": [
      "True\n"
     ]
    }
   ],
   "source": [
    "a1 = True\n",
    "print(a1)"
   ]
  },
  {
   "cell_type": "code",
   "execution_count": 9,
   "id": "4ca0df25",
   "metadata": {},
   "outputs": [
    {
     "data": {
      "text/plain": [
       "bool"
      ]
     },
     "execution_count": 9,
     "metadata": {},
     "output_type": "execute_result"
    }
   ],
   "source": [
    "type(a1)"
   ]
  },
  {
   "cell_type": "code",
   "execution_count": 10,
   "id": "f52e7ced",
   "metadata": {},
   "outputs": [
    {
     "name": "stdout",
     "output_type": "stream",
     "text": [
      "Hi\n"
     ]
    }
   ],
   "source": [
    "a1 = \"Hi\"\n",
    "print(a1)"
   ]
  },
  {
   "cell_type": "code",
   "execution_count": 11,
   "id": "a3153350",
   "metadata": {},
   "outputs": [
    {
     "data": {
      "text/plain": [
       "str"
      ]
     },
     "execution_count": 11,
     "metadata": {},
     "output_type": "execute_result"
    }
   ],
   "source": [
    "type(a1)"
   ]
  },
  {
   "cell_type": "code",
   "execution_count": 12,
   "id": "47d29486",
   "metadata": {},
   "outputs": [
    {
     "name": "stdout",
     "output_type": "stream",
     "text": [
      "(3+4j)\n"
     ]
    }
   ],
   "source": [
    "a1 = 3+4j\n",
    "print(a1)"
   ]
  },
  {
   "cell_type": "code",
   "execution_count": 13,
   "id": "5ba5f7c0",
   "metadata": {},
   "outputs": [
    {
     "data": {
      "text/plain": [
       "complex"
      ]
     },
     "execution_count": 13,
     "metadata": {},
     "output_type": "execute_result"
    }
   ],
   "source": [
    "type(a1)"
   ]
  },
  {
   "cell_type": "markdown",
   "id": "e4090a74",
   "metadata": {},
   "source": [
    "Operators in Python\n",
    "1. Arithmetic\n",
    "2. Relational\n",
    "3. Logical"
   ]
  },
  {
   "cell_type": "code",
   "execution_count": 15,
   "id": "e884e181",
   "metadata": {},
   "outputs": [],
   "source": [
    "#Arithmetic  #+,-,/,* operators"
   ]
  },
  {
   "cell_type": "code",
   "execution_count": 16,
   "id": "31eebe99",
   "metadata": {},
   "outputs": [],
   "source": [
    "a =10\n",
    "b=20"
   ]
  },
  {
   "cell_type": "code",
   "execution_count": 17,
   "id": "34271d7e",
   "metadata": {},
   "outputs": [
    {
     "data": {
      "text/plain": [
       "(10, 20)"
      ]
     },
     "execution_count": 17,
     "metadata": {},
     "output_type": "execute_result"
    }
   ],
   "source": [
    "a,b"
   ]
  },
  {
   "cell_type": "code",
   "execution_count": 18,
   "id": "90e40ec2",
   "metadata": {},
   "outputs": [
    {
     "data": {
      "text/plain": [
       "30"
      ]
     },
     "execution_count": 18,
     "metadata": {},
     "output_type": "execute_result"
    }
   ],
   "source": [
    "a+b\n"
   ]
  },
  {
   "cell_type": "code",
   "execution_count": 19,
   "id": "8b1e00c8",
   "metadata": {},
   "outputs": [
    {
     "data": {
      "text/plain": [
       "-10"
      ]
     },
     "execution_count": 19,
     "metadata": {},
     "output_type": "execute_result"
    }
   ],
   "source": [
    "a-b"
   ]
  },
  {
   "cell_type": "code",
   "execution_count": 20,
   "id": "5a7e9065",
   "metadata": {},
   "outputs": [
    {
     "data": {
      "text/plain": [
       "200"
      ]
     },
     "execution_count": 20,
     "metadata": {},
     "output_type": "execute_result"
    }
   ],
   "source": [
    "a*b"
   ]
  },
  {
   "cell_type": "code",
   "execution_count": 21,
   "id": "812d18a9",
   "metadata": {},
   "outputs": [
    {
     "data": {
      "text/plain": [
       "0.5"
      ]
     },
     "execution_count": 21,
     "metadata": {},
     "output_type": "execute_result"
    }
   ],
   "source": [
    "a/b"
   ]
  },
  {
   "cell_type": "code",
   "execution_count": 22,
   "id": "4d8c91df",
   "metadata": {},
   "outputs": [],
   "source": [
    "#relational operators <,>,==,!= "
   ]
  },
  {
   "cell_type": "code",
   "execution_count": 23,
   "id": "f567e22e",
   "metadata": {},
   "outputs": [],
   "source": [
    "a =30\n",
    "b= 60\n"
   ]
  },
  {
   "cell_type": "code",
   "execution_count": 24,
   "id": "9c391748",
   "metadata": {},
   "outputs": [
    {
     "data": {
      "text/plain": [
       "(30, 60)"
      ]
     },
     "execution_count": 24,
     "metadata": {},
     "output_type": "execute_result"
    }
   ],
   "source": [
    "a,b"
   ]
  },
  {
   "cell_type": "code",
   "execution_count": 25,
   "id": "8d6ed67d",
   "metadata": {},
   "outputs": [
    {
     "data": {
      "text/plain": [
       "False"
      ]
     },
     "execution_count": 25,
     "metadata": {},
     "output_type": "execute_result"
    }
   ],
   "source": [
    "a>b"
   ]
  },
  {
   "cell_type": "code",
   "execution_count": 26,
   "id": "517d46e2",
   "metadata": {},
   "outputs": [
    {
     "data": {
      "text/plain": [
       "True"
      ]
     },
     "execution_count": 26,
     "metadata": {},
     "output_type": "execute_result"
    }
   ],
   "source": [
    "a<b"
   ]
  },
  {
   "cell_type": "code",
   "execution_count": 27,
   "id": "9d50d86a",
   "metadata": {},
   "outputs": [
    {
     "data": {
      "text/plain": [
       "False"
      ]
     },
     "execution_count": 27,
     "metadata": {},
     "output_type": "execute_result"
    }
   ],
   "source": [
    "a==b"
   ]
  },
  {
   "cell_type": "code",
   "execution_count": 28,
   "id": "974739c1",
   "metadata": {},
   "outputs": [
    {
     "data": {
      "text/plain": [
       "True"
      ]
     },
     "execution_count": 28,
     "metadata": {},
     "output_type": "execute_result"
    }
   ],
   "source": [
    "a!=b"
   ]
  },
  {
   "cell_type": "code",
   "execution_count": 29,
   "id": "23eeb363",
   "metadata": {},
   "outputs": [],
   "source": [
    "#Logical operators & |"
   ]
  },
  {
   "cell_type": "code",
   "execution_count": 30,
   "id": "d305eaac",
   "metadata": {},
   "outputs": [],
   "source": [
    "a = True\n",
    "b = False\n",
    "c= True\n",
    "d = False"
   ]
  },
  {
   "cell_type": "code",
   "execution_count": 31,
   "id": "e67d7540",
   "metadata": {},
   "outputs": [
    {
     "data": {
      "text/plain": [
       "(True, False)"
      ]
     },
     "execution_count": 31,
     "metadata": {},
     "output_type": "execute_result"
    }
   ],
   "source": [
    "a,b"
   ]
  },
  {
   "cell_type": "code",
   "execution_count": 32,
   "id": "b8607156",
   "metadata": {},
   "outputs": [
    {
     "data": {
      "text/plain": [
       "False"
      ]
     },
     "execution_count": 32,
     "metadata": {},
     "output_type": "execute_result"
    }
   ],
   "source": [
    "a & b "
   ]
  },
  {
   "cell_type": "code",
   "execution_count": 33,
   "id": "154a78d8",
   "metadata": {},
   "outputs": [
    {
     "data": {
      "text/plain": [
       "True"
      ]
     },
     "execution_count": 33,
     "metadata": {},
     "output_type": "execute_result"
    }
   ],
   "source": [
    "a | b"
   ]
  },
  {
   "cell_type": "code",
   "execution_count": 34,
   "id": "9d38efb7",
   "metadata": {},
   "outputs": [
    {
     "data": {
      "text/plain": [
       "True"
      ]
     },
     "execution_count": 34,
     "metadata": {},
     "output_type": "execute_result"
    }
   ],
   "source": [
    "a & c"
   ]
  },
  {
   "cell_type": "code",
   "execution_count": 35,
   "id": "05e2960b",
   "metadata": {},
   "outputs": [
    {
     "data": {
      "text/plain": [
       "True"
      ]
     },
     "execution_count": 35,
     "metadata": {},
     "output_type": "execute_result"
    }
   ],
   "source": [
    "b|c"
   ]
  },
  {
   "cell_type": "code",
   "execution_count": 36,
   "id": "d703dc7d",
   "metadata": {},
   "outputs": [
    {
     "data": {
      "text/plain": [
       "False"
      ]
     },
     "execution_count": 36,
     "metadata": {},
     "output_type": "execute_result"
    }
   ],
   "source": [
    "d | d \n"
   ]
  },
  {
   "cell_type": "code",
   "execution_count": 37,
   "id": "089ca351",
   "metadata": {},
   "outputs": [
    {
     "data": {
      "text/plain": [
       "False"
      ]
     },
     "execution_count": 37,
     "metadata": {},
     "output_type": "execute_result"
    }
   ],
   "source": [
    "b & d"
   ]
  },
  {
   "cell_type": "code",
   "execution_count": 38,
   "id": "f73b3d4b",
   "metadata": {},
   "outputs": [],
   "source": [
    "#Python tokens keywords,identifiers,operators,literals"
   ]
  },
  {
   "cell_type": "code",
   "execution_count": 39,
   "id": "ff5b7368",
   "metadata": {},
   "outputs": [],
   "source": [
    "#Keywords\n",
    "#False  class     finally    is        return\n",
    "#None   continue  for        lambda    try\n",
    "#True   def       from       nonlocal  while\n",
    "#and    del       global     not       with \n",
    "#as     elif      if         or        yield"
   ]
  },
  {
   "cell_type": "code",
   "execution_count": 40,
   "id": "30e87339",
   "metadata": {},
   "outputs": [],
   "source": [
    "import keyword"
   ]
  },
  {
   "cell_type": "code",
   "execution_count": 41,
   "id": "1fb4cb62",
   "metadata": {},
   "outputs": [
    {
     "name": "stdout",
     "output_type": "stream",
     "text": [
      "['False', 'None', 'True', '__peg_parser__', 'and', 'as', 'assert', 'async', 'await', 'break', 'class', 'continue', 'def', 'del', 'elif', 'else', 'except', 'finally', 'for', 'from', 'global', 'if', 'import', 'in', 'is', 'lambda', 'nonlocal', 'not', 'or', 'pass', 'raise', 'return', 'try', 'while', 'with', 'yield']\n"
     ]
    }
   ],
   "source": [
    "print(keyword.kwlist)"
   ]
  },
  {
   "cell_type": "code",
   "execution_count": 42,
   "id": "3974850a",
   "metadata": {},
   "outputs": [],
   "source": [
    "#python identifiers are for variables ,functions or objects\n",
    "#Rules \n",
    "#1. on underscore character can be used \n",
    "#2.case sensitive\n",
    "#3. First letter cannot begin with a digit"
   ]
  },
  {
   "cell_type": "code",
   "execution_count": 43,
   "id": "936a8bb9",
   "metadata": {},
   "outputs": [
    {
     "data": {
      "text/plain": [
       "21"
      ]
     },
     "execution_count": 43,
     "metadata": {},
     "output_type": "execute_result"
    }
   ],
   "source": [
    "_bb =21 \n",
    "_bb"
   ]
  },
  {
   "cell_type": "code",
   "execution_count": 44,
   "id": "389d0ed2",
   "metadata": {},
   "outputs": [],
   "source": [
    "#case sensitive \n",
    "student = \"Nataraj\"\n",
    "Student =\"Raj\""
   ]
  },
  {
   "cell_type": "code",
   "execution_count": 45,
   "id": "d8faa67d",
   "metadata": {},
   "outputs": [
    {
     "data": {
      "text/plain": [
       "'Nataraj'"
      ]
     },
     "execution_count": 45,
     "metadata": {},
     "output_type": "execute_result"
    }
   ],
   "source": [
    "student"
   ]
  },
  {
   "cell_type": "code",
   "execution_count": 46,
   "id": "f68ab105",
   "metadata": {},
   "outputs": [
    {
     "data": {
      "text/plain": [
       "'Raj'"
      ]
     },
     "execution_count": 46,
     "metadata": {},
     "output_type": "execute_result"
    }
   ],
   "source": [
    "Student"
   ]
  },
  {
   "cell_type": "code",
   "execution_count": 47,
   "id": "f9fd4e83",
   "metadata": {},
   "outputs": [
    {
     "ename": "SyntaxError",
     "evalue": "invalid syntax (4227398199.py, line 1)",
     "output_type": "error",
     "traceback": [
      "\u001b[1;36m  File \u001b[1;32m\"C:\\Users\\natar\\AppData\\Local\\Temp\\ipykernel_3988\\4227398199.py\"\u001b[1;36m, line \u001b[1;32m1\u001b[0m\n\u001b[1;33m    8ba =20 gives invalid syntax\u001b[0m\n\u001b[1;37m     ^\u001b[0m\n\u001b[1;31mSyntaxError\u001b[0m\u001b[1;31m:\u001b[0m invalid syntax\n"
     ]
    }
   ],
   "source": [
    "8ba =20 gives invalid syntax"
   ]
  },
  {
   "cell_type": "code",
   "execution_count": 48,
   "id": "d3dcf990",
   "metadata": {},
   "outputs": [],
   "source": [
    "#literals are nothing but constants which cannot be changed"
   ]
  },
  {
   "cell_type": "code",
   "execution_count": 49,
   "id": "dc158fb0",
   "metadata": {},
   "outputs": [],
   "source": [
    "#Python Strings\n",
    "#Strings are sequence of characters enclosed within double ,single, triple quotes"
   ]
  },
  {
   "cell_type": "code",
   "execution_count": 50,
   "id": "5e39c401",
   "metadata": {},
   "outputs": [],
   "source": [
    "a =\"hello\"\n",
    "b= 'hello'\n",
    "c='''hello'''"
   ]
  },
  {
   "cell_type": "code",
   "execution_count": 51,
   "id": "946cc0bb",
   "metadata": {},
   "outputs": [
    {
     "data": {
      "text/plain": [
       "('hello', 'hello', 'hello')"
      ]
     },
     "execution_count": 51,
     "metadata": {},
     "output_type": "execute_result"
    }
   ],
   "source": [
    "a,b,c"
   ]
  },
  {
   "cell_type": "code",
   "execution_count": 52,
   "id": "72ae1b31",
   "metadata": {},
   "outputs": [
    {
     "data": {
      "text/plain": [
       "(str, str, str)"
      ]
     },
     "execution_count": 52,
     "metadata": {},
     "output_type": "execute_result"
    }
   ],
   "source": [
    "type(a) ,type(b),type(c)"
   ]
  },
  {
   "cell_type": "code",
   "execution_count": 53,
   "id": "c15cae0a",
   "metadata": {},
   "outputs": [],
   "source": [
    "#extracting individual characters from a string "
   ]
  },
  {
   "cell_type": "code",
   "execution_count": 54,
   "id": "0d738d6c",
   "metadata": {},
   "outputs": [],
   "source": [
    "str1 = \" this is my python tutorial\""
   ]
  },
  {
   "cell_type": "code",
   "execution_count": 55,
   "id": "ab4e1a04",
   "metadata": {},
   "outputs": [
    {
     "data": {
      "text/plain": [
       "' this is my python tutorial'"
      ]
     },
     "execution_count": 55,
     "metadata": {},
     "output_type": "execute_result"
    }
   ],
   "source": [
    "str1\n"
   ]
  },
  {
   "cell_type": "code",
   "execution_count": 56,
   "id": "f5990ed6",
   "metadata": {},
   "outputs": [
    {
     "data": {
      "text/plain": [
       "' '"
      ]
     },
     "execution_count": 56,
     "metadata": {},
     "output_type": "execute_result"
    }
   ],
   "source": [
    "str1[0]"
   ]
  },
  {
   "cell_type": "code",
   "execution_count": 57,
   "id": "637b9c35",
   "metadata": {},
   "outputs": [
    {
     "data": {
      "text/plain": [
       "'t'"
      ]
     },
     "execution_count": 57,
     "metadata": {},
     "output_type": "execute_result"
    }
   ],
   "source": [
    "str1[1]"
   ]
  },
  {
   "cell_type": "code",
   "execution_count": 58,
   "id": "5e827398",
   "metadata": {},
   "outputs": [
    {
     "data": {
      "text/plain": [
       "'this'"
      ]
     },
     "execution_count": 58,
     "metadata": {},
     "output_type": "execute_result"
    }
   ],
   "source": [
    "str1[1:5]"
   ]
  },
  {
   "cell_type": "code",
   "execution_count": 59,
   "id": "ef4e3a6a",
   "metadata": {},
   "outputs": [
    {
     "data": {
      "text/plain": [
       "'l'"
      ]
     },
     "execution_count": 59,
     "metadata": {},
     "output_type": "execute_result"
    }
   ],
   "source": [
    "str1[-1]"
   ]
  },
  {
   "cell_type": "code",
   "execution_count": 60,
   "id": "cc80cc47",
   "metadata": {},
   "outputs": [
    {
     "data": {
      "text/plain": [
       "'this is '"
      ]
     },
     "execution_count": 60,
     "metadata": {},
     "output_type": "execute_result"
    }
   ],
   "source": [
    "str1[1:9]"
   ]
  },
  {
   "cell_type": "code",
   "execution_count": 61,
   "id": "b2f19ac9",
   "metadata": {},
   "outputs": [],
   "source": [
    "#Python String Functions length,upper,lower,replace,count, indexof substring , split string "
   ]
  },
  {
   "cell_type": "code",
   "execution_count": 62,
   "id": "6e7887e6",
   "metadata": {},
   "outputs": [
    {
     "name": "stdout",
     "output_type": "stream",
     "text": [
      "7\n"
     ]
    }
   ],
   "source": [
    "#length of the string\n",
    "str2= \"Nataraj\"\n",
    "print(len(str2)) #starts with zero ends with 6 total 7 so the length is seven "
   ]
  },
  {
   "cell_type": "code",
   "execution_count": 63,
   "id": "351bdeab",
   "metadata": {},
   "outputs": [],
   "source": [
    "#uppercase and lowercase\n",
    "str3 = str2.lower()"
   ]
  },
  {
   "cell_type": "code",
   "execution_count": 64,
   "id": "c3e21a5f",
   "metadata": {},
   "outputs": [
    {
     "data": {
      "text/plain": [
       "'nataraj'"
      ]
     },
     "execution_count": 64,
     "metadata": {},
     "output_type": "execute_result"
    }
   ],
   "source": [
    "str3"
   ]
  },
  {
   "cell_type": "code",
   "execution_count": 65,
   "id": "a87ff0f9",
   "metadata": {},
   "outputs": [],
   "source": [
    "str3 = str2.upper()"
   ]
  },
  {
   "cell_type": "code",
   "execution_count": 66,
   "id": "57fe3455",
   "metadata": {},
   "outputs": [
    {
     "data": {
      "text/plain": [
       "'NATARAJ'"
      ]
     },
     "execution_count": 66,
     "metadata": {},
     "output_type": "execute_result"
    }
   ],
   "source": [
    "str3"
   ]
  },
  {
   "cell_type": "code",
   "execution_count": 67,
   "id": "8899e050",
   "metadata": {},
   "outputs": [],
   "source": [
    "#replace\n",
    "str4 = \"Raj\"\n",
    "str5 = str4.replace('R',\"T\")"
   ]
  },
  {
   "cell_type": "code",
   "execution_count": 68,
   "id": "64e88711",
   "metadata": {},
   "outputs": [
    {
     "data": {
      "text/plain": [
       "'Taj'"
      ]
     },
     "execution_count": 68,
     "metadata": {},
     "output_type": "execute_result"
    }
   ],
   "source": [
    "str5"
   ]
  },
  {
   "cell_type": "code",
   "execution_count": 69,
   "id": "a1444b89",
   "metadata": {},
   "outputs": [],
   "source": [
    "#count number of occurences ofa character or word\n",
    "str6 = \"hello hello world\"\n",
    "str7 = str6.count(\"hello\")"
   ]
  },
  {
   "cell_type": "code",
   "execution_count": 70,
   "id": "e125dcc8",
   "metadata": {},
   "outputs": [
    {
     "data": {
      "text/plain": [
       "2"
      ]
     },
     "execution_count": 70,
     "metadata": {},
     "output_type": "execute_result"
    }
   ],
   "source": [
    "str7"
   ]
  },
  {
   "cell_type": "code",
   "execution_count": 71,
   "id": "d9e2f9f4",
   "metadata": {},
   "outputs": [],
   "source": [
    "str8 = str6.count(\"l\")"
   ]
  },
  {
   "cell_type": "code",
   "execution_count": 72,
   "id": "792787e8",
   "metadata": {},
   "outputs": [
    {
     "data": {
      "text/plain": [
       "5"
      ]
     },
     "execution_count": 72,
     "metadata": {},
     "output_type": "execute_result"
    }
   ],
   "source": [
    "str8"
   ]
  },
  {
   "cell_type": "code",
   "execution_count": 73,
   "id": "21a41ec0",
   "metadata": {},
   "outputs": [],
   "source": [
    "#index of substring \n",
    "st = \"this is python \"\n",
    "s= st.find(\"python\")"
   ]
  },
  {
   "cell_type": "code",
   "execution_count": 74,
   "id": "6d068828",
   "metadata": {},
   "outputs": [
    {
     "data": {
      "text/plain": [
       "8"
      ]
     },
     "execution_count": 74,
     "metadata": {},
     "output_type": "execute_result"
    }
   ],
   "source": [
    "s # p starts from index 8 "
   ]
  },
  {
   "cell_type": "code",
   "execution_count": 75,
   "id": "3c481535",
   "metadata": {},
   "outputs": [],
   "source": [
    "#split the string \n",
    "st = \"this, is, python\"\n",
    "s= st.split(\",\")"
   ]
  },
  {
   "cell_type": "code",
   "execution_count": 76,
   "id": "912c60a5",
   "metadata": {},
   "outputs": [
    {
     "data": {
      "text/plain": [
       "['this', ' is', ' python']"
      ]
     },
     "execution_count": 76,
     "metadata": {},
     "output_type": "execute_result"
    }
   ],
   "source": [
    "s"
   ]
  },
  {
   "cell_type": "code",
   "execution_count": 77,
   "id": "3da95045",
   "metadata": {},
   "outputs": [],
   "source": [
    "st = \"this, is, python\"\n",
    "s= st.split(\"i\")"
   ]
  },
  {
   "cell_type": "code",
   "execution_count": 78,
   "id": "00ae46f3",
   "metadata": {},
   "outputs": [
    {
     "data": {
      "text/plain": [
       "['th', 's, ', 's, python']"
      ]
     },
     "execution_count": 78,
     "metadata": {},
     "output_type": "execute_result"
    }
   ],
   "source": [
    "s\n"
   ]
  },
  {
   "cell_type": "code",
   "execution_count": 79,
   "id": "f870dfda",
   "metadata": {},
   "outputs": [],
   "source": [
    "#Data Structures in Python\n",
    "# 1.Tuple\n",
    "# 2.Dictionary\n",
    "# 3.List\n",
    "# 4.set"
   ]
  },
  {
   "cell_type": "code",
   "execution_count": 80,
   "id": "01598679",
   "metadata": {},
   "outputs": [],
   "source": [
    "#Tuple is a ordered collection of elements enclosed within brackets\n",
    "# can Store heterogeneous elements and Tuples are immutable"
   ]
  },
  {
   "cell_type": "code",
   "execution_count": 81,
   "id": "c28df2e6",
   "metadata": {},
   "outputs": [
    {
     "data": {
      "text/plain": [
       "(1, 'a', True, 4, 'aa')"
      ]
     },
     "execution_count": 81,
     "metadata": {},
     "output_type": "execute_result"
    }
   ],
   "source": [
    "tup1 = (1,\"a\",True,4,\"aa\")\n",
    "tup1"
   ]
  },
  {
   "cell_type": "code",
   "execution_count": 82,
   "id": "39e51f59",
   "metadata": {},
   "outputs": [
    {
     "data": {
      "text/plain": [
       "tuple"
      ]
     },
     "execution_count": 82,
     "metadata": {},
     "output_type": "execute_result"
    }
   ],
   "source": [
    "type(tup1)"
   ]
  },
  {
   "cell_type": "code",
   "execution_count": 83,
   "id": "b806bf20",
   "metadata": {},
   "outputs": [
    {
     "data": {
      "text/plain": [
       "1"
      ]
     },
     "execution_count": 83,
     "metadata": {},
     "output_type": "execute_result"
    }
   ],
   "source": [
    "#Extracting individual elements \n",
    "tup1[0]"
   ]
  },
  {
   "cell_type": "code",
   "execution_count": 84,
   "id": "19875319",
   "metadata": {},
   "outputs": [
    {
     "data": {
      "text/plain": [
       "(1, 'a', True)"
      ]
     },
     "execution_count": 84,
     "metadata": {},
     "output_type": "execute_result"
    }
   ],
   "source": [
    "tup1[0:3]"
   ]
  },
  {
   "cell_type": "code",
   "execution_count": 85,
   "id": "dee3210e",
   "metadata": {},
   "outputs": [
    {
     "ename": "TypeError",
     "evalue": "'tuple' object does not support item assignment",
     "output_type": "error",
     "traceback": [
      "\u001b[1;31m---------------------------------------------------------------------------\u001b[0m",
      "\u001b[1;31mTypeError\u001b[0m                                 Traceback (most recent call last)",
      "\u001b[1;32m~\\AppData\\Local\\Temp\\ipykernel_3988\\3270386355.py\u001b[0m in \u001b[0;36m<module>\u001b[1;34m\u001b[0m\n\u001b[1;32m----> 1\u001b[1;33m \u001b[0mtup1\u001b[0m\u001b[1;33m[\u001b[0m\u001b[1;36m1\u001b[0m\u001b[1;33m]\u001b[0m\u001b[1;33m=\u001b[0m\u001b[1;34m\"bb\"\u001b[0m \u001b[1;31m#tuple is immutable\u001b[0m\u001b[1;33m\u001b[0m\u001b[1;33m\u001b[0m\u001b[0m\n\u001b[0m",
      "\u001b[1;31mTypeError\u001b[0m: 'tuple' object does not support item assignment"
     ]
    }
   ],
   "source": [
    "tup1[1]=\"bb\" #tuple is immutable"
   ]
  },
  {
   "cell_type": "code",
   "execution_count": 88,
   "id": "bd4c9a29",
   "metadata": {},
   "outputs": [],
   "source": [
    "# perfrom basic operations on tuple"
   ]
  },
  {
   "cell_type": "code",
   "execution_count": 89,
   "id": "91f66699",
   "metadata": {},
   "outputs": [],
   "source": [
    "tup2=(1,\"cc\",\"False\")"
   ]
  },
  {
   "cell_type": "code",
   "execution_count": 90,
   "id": "0b529fbf",
   "metadata": {},
   "outputs": [
    {
     "data": {
      "text/plain": [
       "((1, 'a', True, 4, 'aa'), (1, 'cc', 'False'))"
      ]
     },
     "execution_count": 90,
     "metadata": {},
     "output_type": "execute_result"
    }
   ],
   "source": [
    "tup1,tup2"
   ]
  },
  {
   "cell_type": "code",
   "execution_count": 91,
   "id": "b9adfd94",
   "metadata": {},
   "outputs": [
    {
     "data": {
      "text/plain": [
       "(1, 'a', True, 4, 'aa', 1, 'cc', 'False')"
      ]
     },
     "execution_count": 91,
     "metadata": {},
     "output_type": "execute_result"
    }
   ],
   "source": [
    "tup1+tup2"
   ]
  },
  {
   "cell_type": "code",
   "execution_count": 92,
   "id": "effea5fb",
   "metadata": {},
   "outputs": [
    {
     "data": {
      "text/plain": [
       "5"
      ]
     },
     "execution_count": 92,
     "metadata": {},
     "output_type": "execute_result"
    }
   ],
   "source": [
    "len(tup1)"
   ]
  },
  {
   "cell_type": "code",
   "execution_count": 93,
   "id": "02e72f55",
   "metadata": {},
   "outputs": [
    {
     "data": {
      "text/plain": [
       "(1, 'a', True, 4, 'aa', 1, 'a', True, 4, 'aa', 1, 'cc', 'False')"
      ]
     },
     "execution_count": 93,
     "metadata": {},
     "output_type": "execute_result"
    }
   ],
   "source": [
    "tup1*2 +tup2"
   ]
  },
  {
   "cell_type": "code",
   "execution_count": 94,
   "id": "72610629",
   "metadata": {},
   "outputs": [
    {
     "data": {
      "text/plain": [
       "21"
      ]
     },
     "execution_count": 94,
     "metadata": {},
     "output_type": "execute_result"
    }
   ],
   "source": [
    "#min amd max value\n",
    "tup3 =(29,45,67,21)\n",
    "min(tup3)"
   ]
  },
  {
   "cell_type": "code",
   "execution_count": 95,
   "id": "e148d0d1",
   "metadata": {},
   "outputs": [
    {
     "data": {
      "text/plain": [
       "67"
      ]
     },
     "execution_count": 95,
     "metadata": {},
     "output_type": "execute_result"
    }
   ],
   "source": [
    "tup3 =(29,45,67,21)\n",
    "max(tup3)"
   ]
  },
  {
   "cell_type": "code",
   "execution_count": 96,
   "id": "239a63fe",
   "metadata": {},
   "outputs": [],
   "source": [
    "#List is orderd collection of elements which are enclosed in square brackets\n",
    "#List is mutable can store heterogeneous elements "
   ]
  },
  {
   "cell_type": "code",
   "execution_count": 97,
   "id": "96fa4698",
   "metadata": {},
   "outputs": [],
   "source": [
    "lst1 =[1,2,3,4,5]\n",
    "lst2 = [1,\"a\",3.4]"
   ]
  },
  {
   "cell_type": "code",
   "execution_count": 98,
   "id": "d49e5e78",
   "metadata": {},
   "outputs": [
    {
     "data": {
      "text/plain": [
       "(list, list)"
      ]
     },
     "execution_count": 98,
     "metadata": {},
     "output_type": "execute_result"
    }
   ],
   "source": [
    "type(lst1), type(lst2)"
   ]
  },
  {
   "cell_type": "code",
   "execution_count": 99,
   "id": "58e146f2",
   "metadata": {},
   "outputs": [
    {
     "data": {
      "text/plain": [
       "1"
      ]
     },
     "execution_count": 99,
     "metadata": {},
     "output_type": "execute_result"
    }
   ],
   "source": [
    "lst1[0]"
   ]
  },
  {
   "cell_type": "code",
   "execution_count": 100,
   "id": "9717da9a",
   "metadata": {},
   "outputs": [],
   "source": [
    "lst1[0]=20 #change is possible"
   ]
  },
  {
   "cell_type": "code",
   "execution_count": 101,
   "id": "63cba8e3",
   "metadata": {},
   "outputs": [
    {
     "data": {
      "text/plain": [
       "[20, 2, 3, 4, 5]"
      ]
     },
     "execution_count": 101,
     "metadata": {},
     "output_type": "execute_result"
    }
   ],
   "source": [
    "lst1"
   ]
  },
  {
   "cell_type": "code",
   "execution_count": 102,
   "id": "79927efe",
   "metadata": {},
   "outputs": [
    {
     "data": {
      "text/plain": [
       "[20, 2, 3, 4, 5, 1, 'a', 3.4]"
      ]
     },
     "execution_count": 102,
     "metadata": {},
     "output_type": "execute_result"
    }
   ],
   "source": [
    "lst1+lst2"
   ]
  },
  {
   "cell_type": "code",
   "execution_count": 103,
   "id": "77ca95d1",
   "metadata": {},
   "outputs": [
    {
     "data": {
      "text/plain": [
       "[20, 2, 3]"
      ]
     },
     "execution_count": 103,
     "metadata": {},
     "output_type": "execute_result"
    }
   ],
   "source": [
    "lst1[0:3]"
   ]
  },
  {
   "cell_type": "code",
   "execution_count": 104,
   "id": "b5237858",
   "metadata": {},
   "outputs": [],
   "source": [
    "lst1.append(300) #toadd new element to list"
   ]
  },
  {
   "cell_type": "code",
   "execution_count": 105,
   "id": "e7a31863",
   "metadata": {},
   "outputs": [
    {
     "data": {
      "text/plain": [
       "[20, 2, 3, 4, 5, 300]"
      ]
     },
     "execution_count": 105,
     "metadata": {},
     "output_type": "execute_result"
    }
   ],
   "source": [
    "lst1"
   ]
  },
  {
   "cell_type": "code",
   "execution_count": 106,
   "id": "b49f697e",
   "metadata": {},
   "outputs": [
    {
     "data": {
      "text/plain": [
       "300"
      ]
     },
     "execution_count": 106,
     "metadata": {},
     "output_type": "execute_result"
    }
   ],
   "source": [
    "lst1.pop() #will remove last element from the list "
   ]
  },
  {
   "cell_type": "code",
   "execution_count": 107,
   "id": "d5eab677",
   "metadata": {},
   "outputs": [
    {
     "data": {
      "text/plain": [
       "[20, 2, 3, 4, 5]"
      ]
     },
     "execution_count": 107,
     "metadata": {},
     "output_type": "execute_result"
    }
   ],
   "source": [
    "lst1"
   ]
  },
  {
   "cell_type": "code",
   "execution_count": 108,
   "id": "aa6bdf80",
   "metadata": {},
   "outputs": [],
   "source": [
    "#reverse element of a list\n",
    "lst1.reverse()"
   ]
  },
  {
   "cell_type": "code",
   "execution_count": 109,
   "id": "ad3e74ef",
   "metadata": {},
   "outputs": [
    {
     "data": {
      "text/plain": [
       "[5, 4, 3, 2, 20]"
      ]
     },
     "execution_count": 109,
     "metadata": {},
     "output_type": "execute_result"
    }
   ],
   "source": [
    "lst1"
   ]
  },
  {
   "cell_type": "code",
   "execution_count": 110,
   "id": "b9ac90be",
   "metadata": {},
   "outputs": [],
   "source": [
    "#insert element ia alist\n",
    "lst1.insert(2,\"Nataraj\") #syntax first parameter is index nd 2nd paramater is value"
   ]
  },
  {
   "cell_type": "code",
   "execution_count": 111,
   "id": "0c87189a",
   "metadata": {},
   "outputs": [
    {
     "data": {
      "text/plain": [
       "[5, 4, 'Nataraj', 3, 2, 20]"
      ]
     },
     "execution_count": 111,
     "metadata": {},
     "output_type": "execute_result"
    }
   ],
   "source": [
    "lst1"
   ]
  },
  {
   "cell_type": "code",
   "execution_count": 112,
   "id": "53a34d78",
   "metadata": {},
   "outputs": [],
   "source": [
    "#to sort the list\n",
    "lst3=[1,5,6,3,7,9]\n",
    "lst3.sort()         #sort only works for numbers not strings in heteregeneous data"
   ]
  },
  {
   "cell_type": "code",
   "execution_count": 113,
   "id": "3fc62473",
   "metadata": {},
   "outputs": [
    {
     "data": {
      "text/plain": [
       "[1, 3, 5, 6, 7, 9]"
      ]
     },
     "execution_count": 113,
     "metadata": {},
     "output_type": "execute_result"
    }
   ],
   "source": [
    "lst3"
   ]
  },
  {
   "cell_type": "code",
   "execution_count": 114,
   "id": "40d0d241",
   "metadata": {},
   "outputs": [
    {
     "data": {
      "text/plain": [
       "['Mango', 'banana', 'guava', 'apple']"
      ]
     },
     "execution_count": 114,
     "metadata": {},
     "output_type": "execute_result"
    }
   ],
   "source": [
    "lst4=[\"Mango\",\"banana\",\"guava\",\"apple\"]\n",
    "lst4"
   ]
  },
  {
   "cell_type": "code",
   "execution_count": 115,
   "id": "9f090aed",
   "metadata": {},
   "outputs": [
    {
     "data": {
      "text/plain": [
       "['Mango', 'apple', 'banana', 'guava']"
      ]
     },
     "execution_count": 115,
     "metadata": {},
     "output_type": "execute_result"
    }
   ],
   "source": [
    "lst4.sort()\n",
    "lst4"
   ]
  },
  {
   "cell_type": "code",
   "execution_count": 116,
   "id": "1d284480",
   "metadata": {},
   "outputs": [
    {
     "data": {
      "text/plain": [
       "['Mango', 'apple', 'banana', 'guava', 'Mango', 'apple', 'banana', 'guava']"
      ]
     },
     "execution_count": 116,
     "metadata": {},
     "output_type": "execute_result"
    }
   ],
   "source": [
    "lst4*2"
   ]
  },
  {
   "cell_type": "code",
   "execution_count": 117,
   "id": "6d6e5741",
   "metadata": {},
   "outputs": [
    {
     "data": {
      "text/plain": [
       "[1, 3, 5, 6, 7, 9, 'Mango', 'apple', 'banana', 'guava']"
      ]
     },
     "execution_count": 117,
     "metadata": {},
     "output_type": "execute_result"
    }
   ],
   "source": [
    "lst3+lst4"
   ]
  },
  {
   "cell_type": "code",
   "execution_count": 118,
   "id": "d0e3bd86",
   "metadata": {},
   "outputs": [],
   "source": [
    "#dictionary is unordered collection of key value pairs enclosed within {}\n",
    "#dictionry is mutable"
   ]
  },
  {
   "cell_type": "code",
   "execution_count": 119,
   "id": "9476c102",
   "metadata": {},
   "outputs": [],
   "source": [
    "d1 ={\"Mango\":200, \"Apple\":100,\"Banana\":50,1:\"blueberry\"}"
   ]
  },
  {
   "cell_type": "code",
   "execution_count": 120,
   "id": "736674c6",
   "metadata": {},
   "outputs": [
    {
     "data": {
      "text/plain": [
       "{'Mango': 200, 'Apple': 100, 'Banana': 50, 1: 'blueberry'}"
      ]
     },
     "execution_count": 120,
     "metadata": {},
     "output_type": "execute_result"
    }
   ],
   "source": [
    "d1"
   ]
  },
  {
   "cell_type": "code",
   "execution_count": 121,
   "id": "6a1dd71e",
   "metadata": {},
   "outputs": [
    {
     "data": {
      "text/plain": [
       "dict"
      ]
     },
     "execution_count": 121,
     "metadata": {},
     "output_type": "execute_result"
    }
   ],
   "source": [
    "type(d1)"
   ]
  },
  {
   "cell_type": "code",
   "execution_count": 122,
   "id": "df2bb431",
   "metadata": {},
   "outputs": [
    {
     "data": {
      "text/plain": [
       "dict_keys(['Mango', 'Apple', 'Banana', 1])"
      ]
     },
     "execution_count": 122,
     "metadata": {},
     "output_type": "execute_result"
    }
   ],
   "source": [
    "#extract keys and values from dictionary\n",
    "d1.keys()"
   ]
  },
  {
   "cell_type": "code",
   "execution_count": 123,
   "id": "16547924",
   "metadata": {},
   "outputs": [
    {
     "data": {
      "text/plain": [
       "dict_values([200, 100, 50, 'blueberry'])"
      ]
     },
     "execution_count": 123,
     "metadata": {},
     "output_type": "execute_result"
    }
   ],
   "source": [
    "d1.values()"
   ]
  },
  {
   "cell_type": "code",
   "execution_count": 124,
   "id": "f64e57db",
   "metadata": {},
   "outputs": [],
   "source": [
    "d1[\"Mango\"]=500 #existing element change"
   ]
  },
  {
   "cell_type": "code",
   "execution_count": 125,
   "id": "4a8117fa",
   "metadata": {},
   "outputs": [
    {
     "data": {
      "text/plain": [
       "{'Mango': 500, 'Apple': 100, 'Banana': 50, 1: 'blueberry'}"
      ]
     },
     "execution_count": 125,
     "metadata": {},
     "output_type": "execute_result"
    }
   ],
   "source": [
    "d1"
   ]
  },
  {
   "cell_type": "code",
   "execution_count": 126,
   "id": "971f223e",
   "metadata": {},
   "outputs": [],
   "source": [
    "#add new element into dictionary"
   ]
  },
  {
   "cell_type": "code",
   "execution_count": 127,
   "id": "5c537605",
   "metadata": {},
   "outputs": [],
   "source": [
    "d1[\"grapes\"]=150"
   ]
  },
  {
   "cell_type": "code",
   "execution_count": 128,
   "id": "bf087b9c",
   "metadata": {},
   "outputs": [
    {
     "data": {
      "text/plain": [
       "{'Mango': 500, 'Apple': 100, 'Banana': 50, 1: 'blueberry', 'grapes': 150}"
      ]
     },
     "execution_count": 128,
     "metadata": {},
     "output_type": "execute_result"
    }
   ],
   "source": [
    "d1"
   ]
  },
  {
   "cell_type": "code",
   "execution_count": 129,
   "id": "39883812",
   "metadata": {},
   "outputs": [],
   "source": [
    "#some of the functions in dictionary "
   ]
  },
  {
   "cell_type": "code",
   "execution_count": 130,
   "id": "125ba80c",
   "metadata": {},
   "outputs": [],
   "source": [
    "f1 ={'Mango': 500, 'Apple': 100, 'Banana': 50}\n",
    "f2={'grapes': 100, 'guava': 50, 'banana':50}"
   ]
  },
  {
   "cell_type": "code",
   "execution_count": 131,
   "id": "25275009",
   "metadata": {},
   "outputs": [],
   "source": [
    "f1.update(f2)"
   ]
  },
  {
   "cell_type": "code",
   "execution_count": 132,
   "id": "db621112",
   "metadata": {},
   "outputs": [
    {
     "data": {
      "text/plain": [
       "{'Mango': 500,\n",
       " 'Apple': 100,\n",
       " 'Banana': 50,\n",
       " 'grapes': 100,\n",
       " 'guava': 50,\n",
       " 'banana': 50}"
      ]
     },
     "execution_count": 132,
     "metadata": {},
     "output_type": "execute_result"
    }
   ],
   "source": [
    "f1"
   ]
  },
  {
   "cell_type": "code",
   "execution_count": 133,
   "id": "c0183fda",
   "metadata": {},
   "outputs": [
    {
     "data": {
      "text/plain": [
       "50"
      ]
     },
     "execution_count": 133,
     "metadata": {},
     "output_type": "execute_result"
    }
   ],
   "source": [
    "f2.pop(\"banana\") #need to pass argument "
   ]
  },
  {
   "cell_type": "code",
   "execution_count": 134,
   "id": "96a8ca02",
   "metadata": {},
   "outputs": [
    {
     "data": {
      "text/plain": [
       "{'grapes': 100, 'guava': 50}"
      ]
     },
     "execution_count": 134,
     "metadata": {},
     "output_type": "execute_result"
    }
   ],
   "source": [
    "f2"
   ]
  },
  {
   "cell_type": "code",
   "execution_count": 135,
   "id": "8f19c8c3",
   "metadata": {},
   "outputs": [],
   "source": [
    "#set is unordered and unindexed collection of elements enclosed within curly brackets\n",
    "#set duplicates are not allowed"
   ]
  },
  {
   "cell_type": "code",
   "execution_count": 136,
   "id": "81099598",
   "metadata": {},
   "outputs": [],
   "source": [
    "s1 ={1,\"a\",3.4}"
   ]
  },
  {
   "cell_type": "code",
   "execution_count": 137,
   "id": "9a955820",
   "metadata": {},
   "outputs": [
    {
     "data": {
      "text/plain": [
       "set"
      ]
     },
     "execution_count": 137,
     "metadata": {},
     "output_type": "execute_result"
    }
   ],
   "source": [
    "type(s1)"
   ]
  },
  {
   "cell_type": "code",
   "execution_count": 138,
   "id": "822b6649",
   "metadata": {},
   "outputs": [],
   "source": [
    "s1 ={1,\"a\",3.4,1} #duplicates are not allowed"
   ]
  },
  {
   "cell_type": "code",
   "execution_count": 139,
   "id": "1b5b9ee2",
   "metadata": {},
   "outputs": [
    {
     "data": {
      "text/plain": [
       "{1, 3.4, 'a'}"
      ]
     },
     "execution_count": 139,
     "metadata": {},
     "output_type": "execute_result"
    }
   ],
   "source": [
    "s1"
   ]
  },
  {
   "cell_type": "code",
   "execution_count": 140,
   "id": "7803925e",
   "metadata": {},
   "outputs": [],
   "source": [
    "#add element to set\n",
    "s1.add(45)"
   ]
  },
  {
   "cell_type": "code",
   "execution_count": 141,
   "id": "830a01dc",
   "metadata": {},
   "outputs": [
    {
     "data": {
      "text/plain": [
       "{1, 3.4, 45, 'a'}"
      ]
     },
     "execution_count": 141,
     "metadata": {},
     "output_type": "execute_result"
    }
   ],
   "source": [
    "s1"
   ]
  },
  {
   "cell_type": "code",
   "execution_count": 142,
   "id": "d8dc1832",
   "metadata": {},
   "outputs": [],
   "source": [
    "#to add multiple elements\n",
    "s1.update([60,\"hi\",27.6])"
   ]
  },
  {
   "cell_type": "code",
   "execution_count": 143,
   "id": "6060fc95",
   "metadata": {},
   "outputs": [
    {
     "data": {
      "text/plain": [
       "{1, 27.6, 3.4, 45, 60, 'a', 'hi'}"
      ]
     },
     "execution_count": 143,
     "metadata": {},
     "output_type": "execute_result"
    }
   ],
   "source": [
    "s1"
   ]
  },
  {
   "cell_type": "code",
   "execution_count": 144,
   "id": "c692ed19",
   "metadata": {},
   "outputs": [],
   "source": [
    "#to remove a element from set\n",
    "s1.remove(1)"
   ]
  },
  {
   "cell_type": "code",
   "execution_count": 145,
   "id": "e88b944a",
   "metadata": {},
   "outputs": [
    {
     "data": {
      "text/plain": [
       "{27.6, 3.4, 45, 60, 'a', 'hi'}"
      ]
     },
     "execution_count": 145,
     "metadata": {},
     "output_type": "execute_result"
    }
   ],
   "source": [
    "s1"
   ]
  },
  {
   "cell_type": "code",
   "execution_count": 146,
   "id": "ab145bab",
   "metadata": {},
   "outputs": [],
   "source": [
    "s2 ={1,2,3,4,5}"
   ]
  },
  {
   "cell_type": "code",
   "execution_count": 147,
   "id": "aee38405",
   "metadata": {},
   "outputs": [],
   "source": [
    "#union and intersection of two sets "
   ]
  },
  {
   "cell_type": "code",
   "execution_count": 148,
   "id": "de2f16dd",
   "metadata": {},
   "outputs": [
    {
     "data": {
      "text/plain": [
       "{1, 2, 27.6, 3, 3.4, 4, 45, 5, 60, 'a', 'hi'}"
      ]
     },
     "execution_count": 148,
     "metadata": {},
     "output_type": "execute_result"
    }
   ],
   "source": [
    "s1.union(s2)"
   ]
  },
  {
   "cell_type": "code",
   "execution_count": 149,
   "id": "60b14ae5",
   "metadata": {},
   "outputs": [],
   "source": [
    "s3= {1,2,3,4}\n",
    "s4 = {1,3,5,7}"
   ]
  },
  {
   "cell_type": "code",
   "execution_count": 150,
   "id": "d07c6f04",
   "metadata": {},
   "outputs": [
    {
     "data": {
      "text/plain": [
       "{1, 3}"
      ]
     },
     "execution_count": 150,
     "metadata": {},
     "output_type": "execute_result"
    }
   ],
   "source": [
    "s3.intersection(s4)"
   ]
  },
  {
   "cell_type": "code",
   "execution_count": 151,
   "id": "65fe3cad",
   "metadata": {},
   "outputs": [],
   "source": [
    "#Conditional statements in python "
   ]
  },
  {
   "cell_type": "code",
   "execution_count": 152,
   "id": "31c0c345",
   "metadata": {},
   "outputs": [],
   "source": [
    "a = 10 \n",
    "b = 20"
   ]
  },
  {
   "cell_type": "code",
   "execution_count": 153,
   "id": "3f6c213a",
   "metadata": {},
   "outputs": [
    {
     "name": "stdout",
     "output_type": "stream",
     "text": [
      "b is greatest\n"
     ]
    }
   ],
   "source": [
    "if a>b:\n",
    "    print(\"a is greatest\")\n",
    "else:\n",
    "    print(\"b is greatest\")"
   ]
  },
  {
   "cell_type": "code",
   "execution_count": 154,
   "id": "69fbba0e",
   "metadata": {},
   "outputs": [
    {
     "name": "stdout",
     "output_type": "stream",
     "text": [
      "b is greatest\n"
     ]
    }
   ],
   "source": [
    "if a>b:\n",
    "    print(\"a is greatest\")\n",
    "elif b>a:\n",
    "    print(\"b is greatest\")\n",
    "else:\n",
    "    print(\"Nothing to print\")"
   ]
  },
  {
   "cell_type": "code",
   "execution_count": 155,
   "id": "b52d77cd",
   "metadata": {},
   "outputs": [
    {
     "data": {
      "text/plain": [
       "('a', 'b', 'c')"
      ]
     },
     "execution_count": 155,
     "metadata": {},
     "output_type": "execute_result"
    }
   ],
   "source": [
    "tup1 = ('a','b','c')\n",
    "tup1"
   ]
  },
  {
   "cell_type": "code",
   "execution_count": 156,
   "id": "13e6d5f4",
   "metadata": {},
   "outputs": [
    {
     "data": {
      "text/plain": [
       "tuple"
      ]
     },
     "execution_count": 156,
     "metadata": {},
     "output_type": "execute_result"
    }
   ],
   "source": [
    "type(tup1)"
   ]
  },
  {
   "cell_type": "code",
   "execution_count": 157,
   "id": "8e4913c8",
   "metadata": {},
   "outputs": [
    {
     "name": "stdout",
     "output_type": "stream",
     "text": [
      "a is present in tup1\n"
     ]
    }
   ],
   "source": [
    "#if with tuple\n",
    "if 'a' in tup1:\n",
    "    print(\"a is present in tup1\")\n",
    "else:\n",
    "    print(\"not present\")"
   ]
  },
  {
   "cell_type": "code",
   "execution_count": 158,
   "id": "c9e134f6",
   "metadata": {},
   "outputs": [
    {
     "name": "stdout",
     "output_type": "stream",
     "text": [
      "not present\n"
     ]
    }
   ],
   "source": [
    "if 'z' in tup1:\n",
    "    print(\"a is present in tup1\")\n",
    "else:\n",
    "    print(\"not present\")"
   ]
  },
  {
   "cell_type": "code",
   "execution_count": 159,
   "id": "cbe4ee4a",
   "metadata": {},
   "outputs": [
    {
     "data": {
      "text/plain": [
       "[1, 2, 3, 4, 5]"
      ]
     },
     "execution_count": 159,
     "metadata": {},
     "output_type": "execute_result"
    }
   ],
   "source": [
    "#if with list\n",
    "lst = [1,2,3,4,5]\n",
    "lst"
   ]
  },
  {
   "cell_type": "code",
   "execution_count": 160,
   "id": "8d5fa0d0",
   "metadata": {},
   "outputs": [
    {
     "data": {
      "text/plain": [
       "list"
      ]
     },
     "execution_count": 160,
     "metadata": {},
     "output_type": "execute_result"
    }
   ],
   "source": [
    "type(lst)"
   ]
  },
  {
   "cell_type": "code",
   "execution_count": 161,
   "id": "7cfa622d",
   "metadata": {},
   "outputs": [
    {
     "name": "stdout",
     "output_type": "stream",
     "text": [
      "1 is present in list\n"
     ]
    }
   ],
   "source": [
    "if 1 in lst:\n",
    "    print(\"1 is present in list\")\n",
    "else:\n",
    "    print(\"not present\")\n"
   ]
  },
  {
   "cell_type": "code",
   "execution_count": 162,
   "id": "aab65daa",
   "metadata": {},
   "outputs": [
    {
     "name": "stdout",
     "output_type": "stream",
     "text": [
      "1 is present in list\n"
     ]
    }
   ],
   "source": [
    "if lst[1]==2 :\n",
    "    print(\"1 is present in list\")\n",
    "else:\n",
    "    print(\"not present\")\n"
   ]
  },
  {
   "cell_type": "code",
   "execution_count": 163,
   "id": "bbfa1348",
   "metadata": {},
   "outputs": [],
   "source": [
    "if lst[1]==2 :\n",
    "    lst[1]= lst[1]+100\n",
    "else:\n",
    "    print(\"not present\")"
   ]
  },
  {
   "cell_type": "code",
   "execution_count": 164,
   "id": "91acd7f0",
   "metadata": {},
   "outputs": [
    {
     "data": {
      "text/plain": [
       "[1, 102, 3, 4, 5]"
      ]
     },
     "execution_count": 164,
     "metadata": {},
     "output_type": "execute_result"
    }
   ],
   "source": [
    "lst"
   ]
  },
  {
   "cell_type": "code",
   "execution_count": 165,
   "id": "306f5728",
   "metadata": {},
   "outputs": [],
   "source": [
    "#loop statements in python\n"
   ]
  },
  {
   "cell_type": "code",
   "execution_count": 166,
   "id": "208058b1",
   "metadata": {},
   "outputs": [
    {
     "name": "stdout",
     "output_type": "stream",
     "text": [
      "1\n",
      "2\n",
      "3\n",
      "4\n",
      "5\n",
      "6\n",
      "7\n",
      "8\n",
      "9\n",
      "10\n"
     ]
    }
   ],
   "source": [
    "#while loop\n",
    "i=1\n",
    "while i<=10:\n",
    "    print(i)\n",
    "    i=i+1\n",
    "    "
   ]
  },
  {
   "cell_type": "code",
   "execution_count": 167,
   "id": "7892d3b1",
   "metadata": {},
   "outputs": [
    {
     "data": {
      "text/plain": [
       "[1, 2, 3, 4, 5]"
      ]
     },
     "execution_count": 167,
     "metadata": {},
     "output_type": "execute_result"
    }
   ],
   "source": [
    "l1 =[1,2,3,4,5]\n",
    "l1"
   ]
  },
  {
   "cell_type": "code",
   "execution_count": 168,
   "id": "5f680b6b",
   "metadata": {},
   "outputs": [],
   "source": [
    "i=0\n",
    "while i<len(l1):\n",
    "    l1[i]=l1[i]+100\n",
    "    i=i+1\n"
   ]
  },
  {
   "cell_type": "code",
   "execution_count": 169,
   "id": "08053395",
   "metadata": {},
   "outputs": [
    {
     "name": "stdout",
     "output_type": "stream",
     "text": [
      "10\n",
      "20\n",
      "30\n",
      "40\n"
     ]
    }
   ],
   "source": [
    "#for loop \n",
    "lst = [10,20,30,40]\n",
    "for i in lst:\n",
    "    print(i)\n"
   ]
  },
  {
   "cell_type": "code",
   "execution_count": 170,
   "id": "95a35263",
   "metadata": {},
   "outputs": [],
   "source": [
    "l1 =[1,2,3,4]\n",
    "l2 =[\"red\",\"orange\",\"green\",\"yellow\"]"
   ]
  },
  {
   "cell_type": "code",
   "execution_count": 171,
   "id": "cb5fb64e",
   "metadata": {},
   "outputs": [
    {
     "name": "stdout",
     "output_type": "stream",
     "text": [
      "1 red\n",
      "1 orange\n",
      "1 green\n",
      "1 yellow\n",
      "2 red\n",
      "2 orange\n",
      "2 green\n",
      "2 yellow\n",
      "3 red\n",
      "3 orange\n",
      "3 green\n",
      "3 yellow\n",
      "4 red\n",
      "4 orange\n",
      "4 green\n",
      "4 yellow\n"
     ]
    }
   ],
   "source": [
    "for i in l1:\n",
    "    for j in l2:\n",
    "        print(i,j)"
   ]
  },
  {
   "cell_type": "code",
   "execution_count": 172,
   "id": "568ef8a5",
   "metadata": {},
   "outputs": [],
   "source": [
    "#Functions in python \n",
    "#Function is a block of code which performs sime specific task "
   ]
  },
  {
   "cell_type": "code",
   "execution_count": 173,
   "id": "57f0c617",
   "metadata": {},
   "outputs": [],
   "source": [
    "def hello():\n",
    "    print(\"Hello welcome to python Programming\")"
   ]
  },
  {
   "cell_type": "code",
   "execution_count": 174,
   "id": "f61034c5",
   "metadata": {},
   "outputs": [
    {
     "name": "stdout",
     "output_type": "stream",
     "text": [
      "Hello welcome to python Programming\n"
     ]
    }
   ],
   "source": [
    "hello() #clling the function"
   ]
  },
  {
   "cell_type": "code",
   "execution_count": 175,
   "id": "bdefe136",
   "metadata": {},
   "outputs": [],
   "source": [
    "def iseven(x):\n",
    "    if x%2==0:\n",
    "        print(x, \"is even\")\n",
    "    else:\n",
    "        print(x,\"is odd\")\n",
    "    \n"
   ]
  },
  {
   "cell_type": "code",
   "execution_count": 176,
   "id": "cea45efd",
   "metadata": {},
   "outputs": [
    {
     "name": "stdout",
     "output_type": "stream",
     "text": [
      "10 is even\n"
     ]
    }
   ],
   "source": [
    "iseven(10)"
   ]
  },
  {
   "cell_type": "code",
   "execution_count": 177,
   "id": "9edcea48",
   "metadata": {},
   "outputs": [
    {
     "name": "stdout",
     "output_type": "stream",
     "text": [
      "5 is odd\n"
     ]
    }
   ],
   "source": [
    "iseven(5)"
   ]
  },
  {
   "cell_type": "code",
   "execution_count": 178,
   "id": "47c168d2",
   "metadata": {},
   "outputs": [],
   "source": [
    "#lambda function\n",
    "g= lambda x: x*x*x\n"
   ]
  },
  {
   "cell_type": "code",
   "execution_count": 179,
   "id": "5a12088a",
   "metadata": {},
   "outputs": [
    {
     "data": {
      "text/plain": [
       "125"
      ]
     },
     "execution_count": 179,
     "metadata": {},
     "output_type": "execute_result"
    }
   ],
   "source": [
    "g(5)"
   ]
  },
  {
   "cell_type": "code",
   "execution_count": 180,
   "id": "b8b89381",
   "metadata": {},
   "outputs": [
    {
     "name": "stdout",
     "output_type": "stream",
     "text": [
      "[65, 39, 221]\n"
     ]
    }
   ],
   "source": [
    "#lambda with filter\n",
    "# Take a list of numbers. \n",
    "my_list = [12, 65, 54, 39, 102, 339, 221, 50, 70, ]\n",
    "  \n",
    "# use anonymous function to filter and comparing \n",
    "# if divisible or not\n",
    "result = list(filter(lambda x: (x % 13 == 0), my_list)) \n",
    "# printing the result\n",
    "print(result) "
   ]
  },
  {
   "cell_type": "code",
   "execution_count": 181,
   "id": "fa2497e3",
   "metadata": {},
   "outputs": [
    {
     "ename": "NameError",
     "evalue": "name 'l' is not defined",
     "output_type": "error",
     "traceback": [
      "\u001b[1;31m---------------------------------------------------------------------------\u001b[0m",
      "\u001b[1;31mNameError\u001b[0m                                 Traceback (most recent call last)",
      "\u001b[1;32m~\\AppData\\Local\\Temp\\ipykernel_3988\\948223891.py\u001b[0m in \u001b[0;36m<module>\u001b[1;34m\u001b[0m\n\u001b[0;32m      1\u001b[0m \u001b[1;31m#lambda with map\u001b[0m\u001b[1;33m\u001b[0m\u001b[1;33m\u001b[0m\u001b[0m\n\u001b[1;32m----> 2\u001b[1;33m \u001b[0mfinal_nw\u001b[0m \u001b[1;33m=\u001b[0m \u001b[0mlist\u001b[0m\u001b[1;33m(\u001b[0m\u001b[0mmap\u001b[0m\u001b[1;33m(\u001b[0m\u001b[1;32mlambda\u001b[0m \u001b[0mx\u001b[0m\u001b[1;33m:\u001b[0m \u001b[0mx\u001b[0m\u001b[1;33m*\u001b[0m\u001b[1;36m2\u001b[0m\u001b[1;33m,\u001b[0m\u001b[0ml\u001b[0m\u001b[1;33m)\u001b[0m\u001b[1;33m)\u001b[0m\u001b[1;33m\u001b[0m\u001b[1;33m\u001b[0m\u001b[0m\n\u001b[0m",
      "\u001b[1;31mNameError\u001b[0m: name 'l' is not defined"
     ]
    }
   ],
   "source": [
    "#lambda with map\n",
    "final_nw = list(map(lambda x: x*2,l))"
   ]
  },
  {
   "cell_type": "code",
   "execution_count": 182,
   "id": "5a48ad65",
   "metadata": {},
   "outputs": [],
   "source": [
    "#Python Object Oriented programming concepts"
   ]
  },
  {
   "cell_type": "code",
   "execution_count": 183,
   "id": "c14d952f",
   "metadata": {},
   "outputs": [],
   "source": [
    "#class is a template/blueprint for real world entities\n",
    "\n",
    "class Phone:\n",
    "    \n",
    "    def make_call(self):\n",
    "        print(\"make a call\")\n",
    "    def play_game(self):\n",
    "        print(\"playing games\")\n",
    "    def set_color(self,color):\n",
    "        self.color=color\n",
    "    def set_cost(self,cost):\n",
    "        self.cost=cost\n",
    "    def show_color(self):\n",
    "        return self.color\n",
    "    def show_cost(self):\n",
    "        return self.cost"
   ]
  },
  {
   "cell_type": "code",
   "execution_count": 184,
   "id": "2d2707ef",
   "metadata": {},
   "outputs": [],
   "source": [
    "p1 = Phone()"
   ]
  },
  {
   "cell_type": "code",
   "execution_count": 185,
   "id": "4680a69e",
   "metadata": {},
   "outputs": [
    {
     "name": "stdout",
     "output_type": "stream",
     "text": [
      "make a call\n"
     ]
    }
   ],
   "source": [
    "p1.make_call()"
   ]
  },
  {
   "cell_type": "code",
   "execution_count": 186,
   "id": "b8111da9",
   "metadata": {},
   "outputs": [
    {
     "name": "stdout",
     "output_type": "stream",
     "text": [
      "playing games\n"
     ]
    }
   ],
   "source": [
    "p1.play_game()"
   ]
  },
  {
   "cell_type": "code",
   "execution_count": 187,
   "id": "0742207f",
   "metadata": {},
   "outputs": [],
   "source": [
    "p1.set_color(\"olive green\")"
   ]
  },
  {
   "cell_type": "code",
   "execution_count": 188,
   "id": "046f5995",
   "metadata": {},
   "outputs": [],
   "source": [
    "p1.set_cost(10000)"
   ]
  },
  {
   "cell_type": "code",
   "execution_count": 189,
   "id": "7b9d61eb",
   "metadata": {},
   "outputs": [
    {
     "data": {
      "text/plain": [
       "'olive green'"
      ]
     },
     "execution_count": 189,
     "metadata": {},
     "output_type": "execute_result"
    }
   ],
   "source": [
    "p1.show_color()"
   ]
  },
  {
   "cell_type": "code",
   "execution_count": 190,
   "id": "f0dcd9b1",
   "metadata": {},
   "outputs": [
    {
     "data": {
      "text/plain": [
       "10000"
      ]
     },
     "execution_count": 190,
     "metadata": {},
     "output_type": "execute_result"
    }
   ],
   "source": [
    "p1.show_cost()"
   ]
  },
  {
   "cell_type": "code",
   "execution_count": 191,
   "id": "7e32387e",
   "metadata": {},
   "outputs": [],
   "source": [
    "class Employee:\n",
    "    def __init__(self, name ,age, salary, gender):\n",
    "        self.name=name\n",
    "        self.age=age\n",
    "        self.salary=salary\n",
    "        self.gender=gender\n",
    "    \n",
    "    def show_employee_details(self):\n",
    "        print(\"Employee name is \",self.name)\n",
    "        print(\"Employee age is \",self.age)\n",
    "        print(\"Employee salary is \",self.salary)\n",
    "        print(\"Employee gender is \",self.gender)\n",
    "            "
   ]
  },
  {
   "cell_type": "code",
   "execution_count": 192,
   "id": "c0a8853d",
   "metadata": {},
   "outputs": [],
   "source": [
    "p2 = Employee(\"Nataraj\",33,100000,\"Male\")"
   ]
  },
  {
   "cell_type": "code",
   "execution_count": 193,
   "id": "e70238c2",
   "metadata": {},
   "outputs": [
    {
     "name": "stdout",
     "output_type": "stream",
     "text": [
      "Employee name is  Nataraj\n",
      "Employee age is  33\n",
      "Employee salary is  100000\n",
      "Employee gender is  Male\n"
     ]
    }
   ],
   "source": [
    "p2.show_employee_details()"
   ]
  },
  {
   "cell_type": "code",
   "execution_count": 194,
   "id": "2d134a71",
   "metadata": {},
   "outputs": [],
   "source": [
    "#Inheritance In python "
   ]
  },
  {
   "cell_type": "code",
   "execution_count": 195,
   "id": "069fc234",
   "metadata": {},
   "outputs": [],
   "source": [
    "class Vehicle:\n",
    "    def __init__(self, mileage, cost):\n",
    "        self.mileage=mileage\n",
    "        self.cost=cost\n",
    "       \n",
    "    \n",
    "    def show_vehicle_details(self):\n",
    "        print(\"vehicle mileage is \",self.mileage)\n",
    "        print(\"vehicle cost is \",self.cost)\n",
    "        "
   ]
  },
  {
   "cell_type": "code",
   "execution_count": 196,
   "id": "9cea63e8",
   "metadata": {},
   "outputs": [],
   "source": [
    "v1 = Vehicle(250 ,500000)"
   ]
  },
  {
   "cell_type": "code",
   "execution_count": 197,
   "id": "32ea898a",
   "metadata": {},
   "outputs": [
    {
     "name": "stdout",
     "output_type": "stream",
     "text": [
      "vehicle mileage is  250\n",
      "vehicle cost is  500000\n"
     ]
    }
   ],
   "source": [
    "v1.show_vehicle_details()"
   ]
  },
  {
   "cell_type": "code",
   "execution_count": 198,
   "id": "8aa20f68",
   "metadata": {},
   "outputs": [],
   "source": [
    "class Car(Vehicle):\n",
    "    def __init__(self,mileage,cost,tyres,hp):\n",
    "        super().__init__(mileage,cost)\n",
    "        self.tyres=tyres\n",
    "        self.hp=hp\n",
    "    \n",
    "    def show_car_details(self):\n",
    "        print(\"car tyres is \",self.tyres)\n",
    "        print(\"car hp is \",self.hp)\n",
    "        print(\"vehicle mileage is \",self.mileage)\n",
    "        print(\"vehicle cost is \",self.cost)\n",
    "        \n",
    "    "
   ]
  },
  {
   "cell_type": "code",
   "execution_count": 199,
   "id": "ba769b55",
   "metadata": {},
   "outputs": [],
   "source": [
    "c1 = Car(150,10000,4,500)"
   ]
  },
  {
   "cell_type": "code",
   "execution_count": 200,
   "id": "e08437c9",
   "metadata": {},
   "outputs": [
    {
     "name": "stdout",
     "output_type": "stream",
     "text": [
      "car tyres is  4\n",
      "car hp is  500\n",
      "vehicle mileage is  150\n",
      "vehicle cost is  10000\n"
     ]
    }
   ],
   "source": [
    "c1.show_car_details()"
   ]
  },
  {
   "cell_type": "code",
   "execution_count": 201,
   "id": "87d3aad3",
   "metadata": {},
   "outputs": [
    {
     "name": "stdout",
     "output_type": "stream",
     "text": [
      "vehicle mileage is  150\n",
      "vehicle cost is  10000\n"
     ]
    }
   ],
   "source": [
    "c1.show_vehicle_details()"
   ]
  },
  {
   "cell_type": "code",
   "execution_count": 202,
   "id": "27f592e3",
   "metadata": {},
   "outputs": [],
   "source": [
    "#Types of inheritance \n",
    "# 1.single child inherets from single parent class\n",
    "# 2. Multiple child inherets from multiple parent class\n",
    "# 3. Multi-level\n",
    "# 4. Hybrid\n",
    "# 5. Hierarchical"
   ]
  },
  {
   "cell_type": "code",
   "execution_count": 203,
   "id": "09569da1",
   "metadata": {},
   "outputs": [],
   "source": [
    "#Multiple inheritance\n",
    "class parent1:\n",
    "    def assign_string1(self,str1):\n",
    "        self.str1=str1\n",
    "    def show_string1(self):\n",
    "        return self.str1"
   ]
  },
  {
   "cell_type": "code",
   "execution_count": 204,
   "id": "624b10df",
   "metadata": {},
   "outputs": [],
   "source": [
    "class parent2:\n",
    "    def assign_string2(self,str2):\n",
    "        self.str2=str2\n",
    "    def show_string2(self):\n",
    "        return self.str2"
   ]
  },
  {
   "cell_type": "code",
   "execution_count": 205,
   "id": "9fafb06a",
   "metadata": {},
   "outputs": [],
   "source": [
    "class Child(parent1, parent2):\n",
    "    def assign_string3(self,str3):\n",
    "        self.str3=str3\n",
    "    def show_string3(self):\n",
    "        return self.str3"
   ]
  },
  {
   "cell_type": "code",
   "execution_count": 206,
   "id": "b6b9a4e5",
   "metadata": {},
   "outputs": [],
   "source": [
    "c1 = Child()"
   ]
  },
  {
   "cell_type": "code",
   "execution_count": 207,
   "id": "b5de9faa",
   "metadata": {},
   "outputs": [],
   "source": [
    "c1.assign_string1(\"This is parent 1 class\")\n",
    "c1.assign_string2(\"This is parent 2 class\")\n",
    "c1.assign_string3(\"This is child class\")"
   ]
  },
  {
   "cell_type": "code",
   "execution_count": 208,
   "id": "7396376a",
   "metadata": {},
   "outputs": [
    {
     "data": {
      "text/plain": [
       "'This is parent 1 class'"
      ]
     },
     "execution_count": 208,
     "metadata": {},
     "output_type": "execute_result"
    }
   ],
   "source": [
    "c1.show_string1()"
   ]
  },
  {
   "cell_type": "code",
   "execution_count": 209,
   "id": "5cf2fa1f",
   "metadata": {},
   "outputs": [
    {
     "data": {
      "text/plain": [
       "'This is parent 2 class'"
      ]
     },
     "execution_count": 209,
     "metadata": {},
     "output_type": "execute_result"
    }
   ],
   "source": [
    "c1.show_string2()"
   ]
  },
  {
   "cell_type": "code",
   "execution_count": 210,
   "id": "22d810e6",
   "metadata": {},
   "outputs": [
    {
     "data": {
      "text/plain": [
       "'This is child class'"
      ]
     },
     "execution_count": 210,
     "metadata": {},
     "output_type": "execute_result"
    }
   ],
   "source": [
    "c1.show_string3()"
   ]
  },
  {
   "cell_type": "code",
   "execution_count": 211,
   "id": "20a821b8",
   "metadata": {},
   "outputs": [],
   "source": [
    "#Multilevel inheritance means we have parent ,child, grandchild relationship"
   ]
  },
  {
   "cell_type": "code",
   "execution_count": 212,
   "id": "d49658db",
   "metadata": {},
   "outputs": [],
   "source": [
    "class Parent:\n",
    "    def assign_string1(self,str1):\n",
    "        self.str1=str1\n",
    "    def show_string1(self):\n",
    "        return self.str1"
   ]
  },
  {
   "cell_type": "code",
   "execution_count": 213,
   "id": "84d1df7f",
   "metadata": {},
   "outputs": [],
   "source": [
    "class Child(Parent):\n",
    "    def assign_string2(self,str2):\n",
    "        self.str2=str2\n",
    "    def show_string2(self):\n",
    "        return self.str2"
   ]
  },
  {
   "cell_type": "code",
   "execution_count": 214,
   "id": "acf33fe4",
   "metadata": {},
   "outputs": [],
   "source": [
    "class Grandchild(Child):\n",
    "    def assign_string3(self,str3):\n",
    "        self.str3=str3\n",
    "    def show_string3(self):\n",
    "        return self.str3"
   ]
  },
  {
   "cell_type": "code",
   "execution_count": 215,
   "id": "acae89fb",
   "metadata": {},
   "outputs": [],
   "source": [
    "c2= Grandchild()\n"
   ]
  },
  {
   "cell_type": "code",
   "execution_count": 216,
   "id": "acb2921e",
   "metadata": {},
   "outputs": [],
   "source": [
    "c2.assign_string2(\"this is parent 2\")"
   ]
  },
  {
   "cell_type": "code",
   "execution_count": 217,
   "id": "f0d0fdee",
   "metadata": {},
   "outputs": [],
   "source": [
    "c2.assign_string3(\"This is child class\")"
   ]
  },
  {
   "cell_type": "code",
   "execution_count": 218,
   "id": "73b9dfea",
   "metadata": {},
   "outputs": [
    {
     "data": {
      "text/plain": [
       "'this is parent 2'"
      ]
     },
     "execution_count": 218,
     "metadata": {},
     "output_type": "execute_result"
    }
   ],
   "source": [
    "c2.show_string2()"
   ]
  },
  {
   "cell_type": "code",
   "execution_count": 219,
   "id": "9536febe",
   "metadata": {},
   "outputs": [
    {
     "data": {
      "text/plain": [
       "'This is child class'"
      ]
     },
     "execution_count": 219,
     "metadata": {},
     "output_type": "execute_result"
    }
   ],
   "source": [
    "c2.show_string3()"
   ]
  },
  {
   "cell_type": "code",
   "execution_count": 220,
   "id": "4f7c86fe",
   "metadata": {},
   "outputs": [
    {
     "name": "stdout",
     "output_type": "stream",
     "text": [
      "This function is in parent class.\n",
      "This function is in child 1.\n",
      "This function is in parent class.\n",
      "This function is in child 2.\n"
     ]
    }
   ],
   "source": [
    "#Hierarchical inheritance\n",
    "# Base class\n",
    "class Parent:\n",
    "    def func1(self):\n",
    "        print(\"This function is in parent class.\")\n",
    " \n",
    " \n",
    "class Child1(Parent):\n",
    "    def func2(self):\n",
    "        print(\"This function is in child 1.\")\n",
    " \n",
    "\n",
    " \n",
    "class Child2(Parent):\n",
    "    def func3(self):\n",
    "        print(\"This function is in child 2.\")\n",
    " \n",
    " \n",
    "# Driver's code\n",
    "object1 = Child1()\n",
    "object2 = Child2()\n",
    "object1.func1()\n",
    "object1.func2()\n",
    "object2.func1()\n",
    "object2.func3()"
   ]
  },
  {
   "cell_type": "code",
   "execution_count": 221,
   "id": "0b034378",
   "metadata": {},
   "outputs": [
    {
     "name": "stdout",
     "output_type": "stream",
     "text": [
      "This function is in school.\n",
      "This function is in student 1. \n"
     ]
    }
   ],
   "source": [
    "#Hybrid Inheritance\n",
    "class School:\n",
    "    def func1(self):\n",
    "        print(\"This function is in school.\")\n",
    " \n",
    " \n",
    "class Student1(School):\n",
    "    def func2(self):\n",
    "        print(\"This function is in student 1. \")\n",
    " \n",
    " \n",
    "class Student2(School):\n",
    "    def func3(self):\n",
    "        print(\"This function is in student 2.\")\n",
    " \n",
    " \n",
    "class Student3(Student1, School):\n",
    "    def func4(self):\n",
    "        print(\"This function is in student 3.\")\n",
    " \n",
    " \n",
    "\n",
    "object = Student3()\n",
    "object.func1()\n",
    "object.func2()"
   ]
  },
  {
   "cell_type": "markdown",
   "id": "0e5c5342",
   "metadata": {},
   "source": [
    "# End of Python "
   ]
  }
 ],
 "metadata": {
  "kernelspec": {
   "display_name": "Python 3 (ipykernel)",
   "language": "python",
   "name": "python3"
  },
  "language_info": {
   "codemirror_mode": {
    "name": "ipython",
    "version": 3
   },
   "file_extension": ".py",
   "mimetype": "text/x-python",
   "name": "python",
   "nbconvert_exporter": "python",
   "pygments_lexer": "ipython3",
   "version": "3.9.13"
  }
 },
 "nbformat": 4,
 "nbformat_minor": 5
}
