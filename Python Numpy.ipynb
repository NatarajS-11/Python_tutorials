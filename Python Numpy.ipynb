{
 "cells": [
  {
   "cell_type": "markdown",
   "id": "aef314f9",
   "metadata": {},
   "source": [
    "# Python Libraries"
   ]
  },
  {
   "cell_type": "markdown",
   "id": "9b38305b",
   "metadata": {},
   "source": [
    "## 1.Numpy \n",
    "It is called numerical python which is used for mathematical and scientific computing"
   ]
  },
  {
   "cell_type": "code",
   "execution_count": 1,
   "id": "4c76af9a",
   "metadata": {},
   "outputs": [],
   "source": [
    "import numpy as np"
   ]
  },
  {
   "cell_type": "code",
   "execution_count": 2,
   "id": "66e413ac",
   "metadata": {},
   "outputs": [
    {
     "data": {
      "text/plain": [
       "array([10, 20, 30, 40])"
      ]
     },
     "execution_count": 2,
     "metadata": {},
     "output_type": "execute_result"
    }
   ],
   "source": [
    "n1 = np.array([10,20,30,40])      #single dimensional array\n",
    "n1 "
   ]
  },
  {
   "cell_type": "code",
   "execution_count": 3,
   "id": "a4347ca3",
   "metadata": {},
   "outputs": [
    {
     "data": {
      "text/plain": [
       "numpy.ndarray"
      ]
     },
     "execution_count": 3,
     "metadata": {},
     "output_type": "execute_result"
    }
   ],
   "source": [
    "type(n1)"
   ]
  },
  {
   "cell_type": "code",
   "execution_count": 4,
   "id": "83380504",
   "metadata": {},
   "outputs": [
    {
     "data": {
      "text/plain": [
       "array([[ 10,  20,  30,  40],\n",
       "       [ 50,  60,  70,  80],\n",
       "       [ 90, 100, 110, 120]])"
      ]
     },
     "execution_count": 4,
     "metadata": {},
     "output_type": "execute_result"
    }
   ],
   "source": [
    "n2 = np.array([[10,20,30,40],[50,60,70,80],[90,100,110,120]])  #Multi dimensional Array\n",
    "n2"
   ]
  },
  {
   "cell_type": "code",
   "execution_count": 5,
   "id": "20b55c0f",
   "metadata": {},
   "outputs": [
    {
     "data": {
      "text/plain": [
       "numpy.ndarray"
      ]
     },
     "execution_count": 5,
     "metadata": {},
     "output_type": "execute_result"
    }
   ],
   "source": [
    "type(n2)"
   ]
  },
  {
   "cell_type": "code",
   "execution_count": 6,
   "id": "31b8dd27",
   "metadata": {},
   "outputs": [
    {
     "data": {
      "text/plain": [
       "array([[0., 0.]])"
      ]
     },
     "execution_count": 6,
     "metadata": {},
     "output_type": "execute_result"
    }
   ],
   "source": [
    "#Numpy array with zeros\n",
    "n3 = np.zeros([1,2])\n",
    "n3"
   ]
  },
  {
   "cell_type": "code",
   "execution_count": 7,
   "id": "364e70a1",
   "metadata": {},
   "outputs": [
    {
     "data": {
      "text/plain": [
       "array([[0., 0., 0., 0., 0.],\n",
       "       [0., 0., 0., 0., 0.],\n",
       "       [0., 0., 0., 0., 0.],\n",
       "       [0., 0., 0., 0., 0.],\n",
       "       [0., 0., 0., 0., 0.]])"
      ]
     },
     "execution_count": 7,
     "metadata": {},
     "output_type": "execute_result"
    }
   ],
   "source": [
    "n3 = np.zeros([5,5])\n",
    "n3"
   ]
  },
  {
   "cell_type": "code",
   "execution_count": 8,
   "id": "473095cd",
   "metadata": {},
   "outputs": [
    {
     "data": {
      "text/plain": [
       "array([[10, 10, 10, 10],\n",
       "       [10, 10, 10, 10],\n",
       "       [10, 10, 10, 10],\n",
       "       [10, 10, 10, 10]])"
      ]
     },
     "execution_count": 8,
     "metadata": {},
     "output_type": "execute_result"
    }
   ],
   "source": [
    "#np full method\n",
    "n4= np.full((4,4),10)\n",
    "n4"
   ]
  },
  {
   "cell_type": "code",
   "execution_count": 9,
   "id": "7a07e746",
   "metadata": {},
   "outputs": [
    {
     "data": {
      "text/plain": [
       "(4, 4)"
      ]
     },
     "execution_count": 9,
     "metadata": {},
     "output_type": "execute_result"
    }
   ],
   "source": [
    "n4.shape "
   ]
  },
  {
   "cell_type": "code",
   "execution_count": 10,
   "id": "0f710e4c",
   "metadata": {},
   "outputs": [
    {
     "data": {
      "text/plain": [
       "array([[10, 10],\n",
       "       [10, 10],\n",
       "       [10, 10],\n",
       "       [10, 10],\n",
       "       [10, 10],\n",
       "       [10, 10],\n",
       "       [10, 10],\n",
       "       [10, 10]])"
      ]
     },
     "execution_count": 10,
     "metadata": {},
     "output_type": "execute_result"
    }
   ],
   "source": [
    "n4.shape = (8,2)\n",
    "n4"
   ]
  },
  {
   "cell_type": "code",
   "execution_count": 11,
   "id": "034f7251",
   "metadata": {},
   "outputs": [
    {
     "data": {
      "text/plain": [
       "array([10, 11, 12, 13, 14, 15, 16, 17, 18, 19])"
      ]
     },
     "execution_count": 11,
     "metadata": {},
     "output_type": "execute_result"
    }
   ],
   "source": [
    "#numpy array within particular range\n",
    "n5= np.arange(10,20)\n",
    "n5"
   ]
  },
  {
   "cell_type": "code",
   "execution_count": 13,
   "id": "ff1a73c0",
   "metadata": {},
   "outputs": [
    {
     "data": {
      "text/plain": [
       "array([10, 15, 20, 25, 30, 35, 40, 45])"
      ]
     },
     "execution_count": 13,
     "metadata": {},
     "output_type": "execute_result"
    }
   ],
   "source": [
    "n6= np.arange(10,50,5)\n",
    "n6"
   ]
  },
  {
   "cell_type": "code",
   "execution_count": 14,
   "id": "805dd9be",
   "metadata": {},
   "outputs": [
    {
     "data": {
      "text/plain": [
       "array([39, 12,  1, 23, 29, 23, 11,  9])"
      ]
     },
     "execution_count": 14,
     "metadata": {},
     "output_type": "execute_result"
    }
   ],
   "source": [
    "#np for random numbers\n",
    "n7= np.random.randint(1,50,8)\n",
    "n7"
   ]
  },
  {
   "cell_type": "code",
   "execution_count": 15,
   "id": "a7b12184",
   "metadata": {},
   "outputs": [
    {
     "data": {
      "text/plain": [
       "(8,)"
      ]
     },
     "execution_count": 15,
     "metadata": {},
     "output_type": "execute_result"
    }
   ],
   "source": [
    "n7.shape"
   ]
  },
  {
   "cell_type": "code",
   "execution_count": 16,
   "id": "f8047236",
   "metadata": {},
   "outputs": [],
   "source": [
    "#joining numpy arrays using vstack,hstack,column_stack\n",
    "n1 = np.array([10,20,30])\n",
    "n2 =np.array([40,50,60])"
   ]
  },
  {
   "cell_type": "code",
   "execution_count": 17,
   "id": "f3bb713e",
   "metadata": {},
   "outputs": [
    {
     "data": {
      "text/plain": [
       "array([[10, 20, 30],\n",
       "       [40, 50, 60]])"
      ]
     },
     "execution_count": 17,
     "metadata": {},
     "output_type": "execute_result"
    }
   ],
   "source": [
    "n3 = np.vstack((n1,n2))\n",
    "n3"
   ]
  },
  {
   "cell_type": "code",
   "execution_count": 18,
   "id": "bf33fc00",
   "metadata": {},
   "outputs": [
    {
     "data": {
      "text/plain": [
       "array([10, 20, 30, 40, 50, 60])"
      ]
     },
     "execution_count": 18,
     "metadata": {},
     "output_type": "execute_result"
    }
   ],
   "source": [
    "n3 = np.hstack((n1,n2))\n",
    "n3"
   ]
  },
  {
   "cell_type": "code",
   "execution_count": 19,
   "id": "c35d4662",
   "metadata": {},
   "outputs": [
    {
     "data": {
      "text/plain": [
       "array([[10, 40],\n",
       "       [20, 50],\n",
       "       [30, 60]])"
      ]
     },
     "execution_count": 19,
     "metadata": {},
     "output_type": "execute_result"
    }
   ],
   "source": [
    "n3 = np.column_stack((n1,n2))\n",
    "n3"
   ]
  },
  {
   "cell_type": "code",
   "execution_count": 20,
   "id": "2d5c8846",
   "metadata": {},
   "outputs": [],
   "source": [
    "#numpy intersection and differences\n",
    "n1 = np.array([10,20,30,40,50,60,70])\n",
    "n2 =np.array([50,60,80,90,110,120])"
   ]
  },
  {
   "cell_type": "code",
   "execution_count": 21,
   "id": "eb1d52e9",
   "metadata": {},
   "outputs": [
    {
     "data": {
      "text/plain": [
       "array([50, 60])"
      ]
     },
     "execution_count": 21,
     "metadata": {},
     "output_type": "execute_result"
    }
   ],
   "source": [
    "n3 = np.intersect1d(n1,n2)\n",
    "n3"
   ]
  },
  {
   "cell_type": "code",
   "execution_count": 22,
   "id": "94d464a6",
   "metadata": {},
   "outputs": [
    {
     "data": {
      "text/plain": [
       "array([10, 20, 30, 40, 70])"
      ]
     },
     "execution_count": 22,
     "metadata": {},
     "output_type": "execute_result"
    }
   ],
   "source": [
    "n3 = np.setdiff1d(n1,n2)\n",
    "n3"
   ]
  },
  {
   "cell_type": "code",
   "execution_count": 23,
   "id": "58743606",
   "metadata": {},
   "outputs": [],
   "source": [
    "#addition of arrrays\n",
    "n1 = np.array([10,20,30])\n",
    "n2= np.array([1,2,3])"
   ]
  },
  {
   "cell_type": "code",
   "execution_count": 24,
   "id": "ebd90a83",
   "metadata": {},
   "outputs": [],
   "source": [
    "n3 = np.sum([n1,n2])"
   ]
  },
  {
   "cell_type": "code",
   "execution_count": 25,
   "id": "00fe2e66",
   "metadata": {},
   "outputs": [
    {
     "data": {
      "text/plain": [
       "66"
      ]
     },
     "execution_count": 25,
     "metadata": {},
     "output_type": "execute_result"
    }
   ],
   "source": [
    "n3"
   ]
  },
  {
   "cell_type": "code",
   "execution_count": 26,
   "id": "94b39987",
   "metadata": {},
   "outputs": [
    {
     "data": {
      "text/plain": [
       "array([11, 22, 33])"
      ]
     },
     "execution_count": 26,
     "metadata": {},
     "output_type": "execute_result"
    }
   ],
   "source": [
    "n3 = np.sum([n1,n2],axis=0)  #vertical\n",
    "n3"
   ]
  },
  {
   "cell_type": "code",
   "execution_count": 27,
   "id": "3c6e2433",
   "metadata": {},
   "outputs": [
    {
     "data": {
      "text/plain": [
       "array([60,  6])"
      ]
     },
     "execution_count": 27,
     "metadata": {},
     "output_type": "execute_result"
    }
   ],
   "source": [
    "n3 = np.sum([n1,n2],axis=1)  #horizontal\n",
    "n3"
   ]
  },
  {
   "cell_type": "raw",
   "id": "27aeda95",
   "metadata": {},
   "source": [
    "#Arithmetic operations"
   ]
  },
  {
   "cell_type": "code",
   "execution_count": 28,
   "id": "e9d7e732",
   "metadata": {},
   "outputs": [
    {
     "data": {
      "text/plain": [
       "array([11, 21, 31])"
      ]
     },
     "execution_count": 28,
     "metadata": {},
     "output_type": "execute_result"
    }
   ],
   "source": [
    "n6 = np.array([10,20,30])\n",
    "n6 = n6+1\n",
    "n6"
   ]
  },
  {
   "cell_type": "code",
   "execution_count": 29,
   "id": "f2005b36",
   "metadata": {},
   "outputs": [
    {
     "data": {
      "text/plain": [
       "array([20, 40, 60])"
      ]
     },
     "execution_count": 29,
     "metadata": {},
     "output_type": "execute_result"
    }
   ],
   "source": [
    "n7= np.array([10,20,30])\n",
    "n7 = n7*2\n",
    "n7"
   ]
  },
  {
   "cell_type": "code",
   "execution_count": 30,
   "id": "9126a97c",
   "metadata": {},
   "outputs": [
    {
     "data": {
      "text/plain": [
       "array([ 8, 18, 28])"
      ]
     },
     "execution_count": 30,
     "metadata": {},
     "output_type": "execute_result"
    }
   ],
   "source": [
    "n8= np.array([10,20,30])\n",
    "n8=n8-2\n",
    "n8"
   ]
  },
  {
   "cell_type": "code",
   "execution_count": 31,
   "id": "1dfd7039",
   "metadata": {},
   "outputs": [
    {
     "data": {
      "text/plain": [
       "array([ 5., 10., 15.])"
      ]
     },
     "execution_count": 31,
     "metadata": {},
     "output_type": "execute_result"
    }
   ],
   "source": [
    "n8= np.array([10,20,30])\n",
    "n8 =n8/2\n",
    "n8"
   ]
  },
  {
   "cell_type": "code",
   "execution_count": 32,
   "id": "e8567df0",
   "metadata": {},
   "outputs": [
    {
     "data": {
      "text/plain": [
       "array([5, 6, 7, 8, 9])"
      ]
     },
     "execution_count": 32,
     "metadata": {},
     "output_type": "execute_result"
    }
   ],
   "source": [
    "#mean, stdeviation, median\n",
    "n= np.array([5,6,7,8,9])\n",
    "n"
   ]
  },
  {
   "cell_type": "code",
   "execution_count": 33,
   "id": "d7fdf760",
   "metadata": {},
   "outputs": [
    {
     "data": {
      "text/plain": [
       "7.0"
      ]
     },
     "execution_count": 33,
     "metadata": {},
     "output_type": "execute_result"
    }
   ],
   "source": [
    "n.mean()"
   ]
  },
  {
   "cell_type": "code",
   "execution_count": 34,
   "id": "d36b8385",
   "metadata": {},
   "outputs": [
    {
     "data": {
      "text/plain": [
       "7.0"
      ]
     },
     "execution_count": 34,
     "metadata": {},
     "output_type": "execute_result"
    }
   ],
   "source": [
    "np.median(n)"
   ]
  },
  {
   "cell_type": "code",
   "execution_count": 35,
   "id": "523aa4be",
   "metadata": {},
   "outputs": [
    {
     "data": {
      "text/plain": [
       "8.16496580927726"
      ]
     },
     "execution_count": 35,
     "metadata": {},
     "output_type": "execute_result"
    }
   ],
   "source": [
    "np.std(n1)"
   ]
  },
  {
   "cell_type": "code",
   "execution_count": 36,
   "id": "fa348399",
   "metadata": {},
   "outputs": [
    {
     "data": {
      "text/plain": [
       "array([[3, 2],\n",
       "       [5, 7]])"
      ]
     },
     "execution_count": 36,
     "metadata": {},
     "output_type": "execute_result"
    }
   ],
   "source": [
    "#np transpose\n",
    "n10 = np.array([[3,2],[5,7]])\n",
    "n10"
   ]
  },
  {
   "cell_type": "code",
   "execution_count": 37,
   "id": "fcfc11f2",
   "metadata": {},
   "outputs": [
    {
     "data": {
      "text/plain": [
       "array([[3, 5],\n",
       "       [2, 7]])"
      ]
     },
     "execution_count": 37,
     "metadata": {},
     "output_type": "execute_result"
    }
   ],
   "source": [
    "n10.transpose()"
   ]
  },
  {
   "cell_type": "code",
   "execution_count": 38,
   "id": "6dfdab10",
   "metadata": {},
   "outputs": [
    {
     "data": {
      "text/plain": [
       "array([[1, 2, 3],\n",
       "       [4, 5, 6],\n",
       "       [7, 8, 9]])"
      ]
     },
     "execution_count": 38,
     "metadata": {},
     "output_type": "execute_result"
    }
   ],
   "source": [
    "#numpy array multiplication \n",
    "n1= np.array([[1,2,3],[4,5,6],[7,8,9]])\n",
    "n1"
   ]
  },
  {
   "cell_type": "code",
   "execution_count": 39,
   "id": "634a6321",
   "metadata": {},
   "outputs": [
    {
     "data": {
      "text/plain": [
       "array([[10, 20, 30],\n",
       "       [40, 50, 60],\n",
       "       [70, 80, 90]])"
      ]
     },
     "execution_count": 39,
     "metadata": {},
     "output_type": "execute_result"
    }
   ],
   "source": [
    "n2= np.array([[10,20,30],[40,50,60],[70,80,90]])\n",
    "n2"
   ]
  },
  {
   "cell_type": "code",
   "execution_count": 40,
   "id": "614ee719",
   "metadata": {},
   "outputs": [
    {
     "data": {
      "text/plain": [
       "array([[ 300,  360,  420],\n",
       "       [ 660,  810,  960],\n",
       "       [1020, 1260, 1500]])"
      ]
     },
     "execution_count": 40,
     "metadata": {},
     "output_type": "execute_result"
    }
   ],
   "source": [
    "n1.dot(n2)"
   ]
  },
  {
   "cell_type": "code",
   "execution_count": 41,
   "id": "7ed1f4d8",
   "metadata": {},
   "outputs": [
    {
     "data": {
      "text/plain": [
       "array([[1, 2, 3],\n",
       "       [4, 5, 6]])"
      ]
     },
     "execution_count": 41,
     "metadata": {},
     "output_type": "execute_result"
    }
   ],
   "source": [
    "#numpy array save and load\n",
    "\n",
    "n2 = np.array([[1,2,3],[4,5,6]])\n",
    "n2"
   ]
  },
  {
   "cell_type": "code",
   "execution_count": 42,
   "id": "d56c885e",
   "metadata": {},
   "outputs": [],
   "source": [
    "n3 = np.save(\"numpyn3\",n2)\n",
    "n3"
   ]
  },
  {
   "cell_type": "code",
   "execution_count": 43,
   "id": "0153fcd2",
   "metadata": {},
   "outputs": [
    {
     "data": {
      "text/plain": [
       "array([[1, 2, 3],\n",
       "       [4, 5, 6]])"
      ]
     },
     "execution_count": 43,
     "metadata": {},
     "output_type": "execute_result"
    }
   ],
   "source": [
    "n4 = np.load(\"numpyn3.npy\")\n",
    "n4"
   ]
  },
  {
   "cell_type": "code",
   "execution_count": 44,
   "id": "834d4ca6",
   "metadata": {},
   "outputs": [
    {
     "data": {
      "text/plain": [
       "numpy.ndarray"
      ]
     },
     "execution_count": 44,
     "metadata": {},
     "output_type": "execute_result"
    }
   ],
   "source": [
    "type(n4)"
   ]
  },
  {
   "cell_type": "code",
   "execution_count": 45,
   "id": "6e0d0557",
   "metadata": {},
   "outputs": [],
   "source": [
    "#Numpy Matrix"
   ]
  },
  {
   "cell_type": "code",
   "execution_count": 46,
   "id": "380b1b90",
   "metadata": {},
   "outputs": [
    {
     "data": {
      "text/plain": [
       "array([[1, 2, 3],\n",
       "       [4, 5, 6],\n",
       "       [7, 8, 9]])"
      ]
     },
     "execution_count": 46,
     "metadata": {},
     "output_type": "execute_result"
    }
   ],
   "source": [
    "n = np.array([[1,2,3],[4,5,6],[7,8,9]])\n",
    "n"
   ]
  },
  {
   "cell_type": "code",
   "execution_count": 47,
   "id": "72f8dc27",
   "metadata": {},
   "outputs": [
    {
     "data": {
      "text/plain": [
       "array([1, 2, 3])"
      ]
     },
     "execution_count": 47,
     "metadata": {},
     "output_type": "execute_result"
    }
   ],
   "source": [
    "n[0]"
   ]
  },
  {
   "cell_type": "code",
   "execution_count": 48,
   "id": "99c52e34",
   "metadata": {},
   "outputs": [
    {
     "data": {
      "text/plain": [
       "array([4, 5, 6])"
      ]
     },
     "execution_count": 48,
     "metadata": {},
     "output_type": "execute_result"
    }
   ],
   "source": [
    "n[1]"
   ]
  },
  {
   "cell_type": "code",
   "execution_count": 54,
   "id": "169ad1a5",
   "metadata": {},
   "outputs": [
    {
     "data": {
      "text/plain": [
       "array([2, 5, 8])"
      ]
     },
     "execution_count": 54,
     "metadata": {},
     "output_type": "execute_result"
    }
   ],
   "source": [
    "n[:,1]"
   ]
  },
  {
   "cell_type": "code",
   "execution_count": 63,
   "id": "e1493d58",
   "metadata": {},
   "outputs": [
    {
     "data": {
      "text/plain": [
       "9"
      ]
     },
     "execution_count": 63,
     "metadata": {},
     "output_type": "execute_result"
    }
   ],
   "source": [
    "n[2,2]"
   ]
  },
  {
   "cell_type": "code",
   "execution_count": 64,
   "id": "cdd78100",
   "metadata": {},
   "outputs": [
    {
     "data": {
      "text/plain": [
       "8"
      ]
     },
     "execution_count": 64,
     "metadata": {},
     "output_type": "execute_result"
    }
   ],
   "source": [
    "n[2,1]"
   ]
  },
  {
   "cell_type": "code",
   "execution_count": null,
   "id": "3fc85630",
   "metadata": {},
   "outputs": [],
   "source": []
  }
 ],
 "metadata": {
  "kernelspec": {
   "display_name": "Python 3 (ipykernel)",
   "language": "python",
   "name": "python3"
  },
  "language_info": {
   "codemirror_mode": {
    "name": "ipython",
    "version": 3
   },
   "file_extension": ".py",
   "mimetype": "text/x-python",
   "name": "python",
   "nbconvert_exporter": "python",
   "pygments_lexer": "ipython3",
   "version": "3.9.13"
  }
 },
 "nbformat": 4,
 "nbformat_minor": 5
}
